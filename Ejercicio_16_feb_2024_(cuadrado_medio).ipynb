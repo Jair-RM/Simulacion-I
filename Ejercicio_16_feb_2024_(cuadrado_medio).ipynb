{
  "nbformat": 4,
  "nbformat_minor": 0,
  "metadata": {
    "colab": {
      "provenance": [],
      "authorship_tag": "ABX9TyMSlBVrAZWcmI3Imcfn36nj",
      "include_colab_link": true
    },
    "kernelspec": {
      "name": "python3",
      "display_name": "Python 3"
    },
    "language_info": {
      "name": "python"
    }
  },
  "cells": [
    {
      "cell_type": "markdown",
      "metadata": {
        "id": "view-in-github",
        "colab_type": "text"
      },
      "source": [
        "<a href=\"https://colab.research.google.com/github/Jair-RM/Simulacion-I/blob/main/Ejercicio_16_feb_2024_(cuadrado_medio).ipynb\" target=\"_parent\"><img src=\"https://colab.research.google.com/assets/colab-badge.svg\" alt=\"Open In Colab\"/></a>"
      ]
    },
    {
      "cell_type": "code",
      "execution_count": 1,
      "metadata": {
        "colab": {
          "base_uri": "https://localhost:8080/"
        },
        "id": "TXTfrNGrlYea",
        "outputId": "6465fb06-7db1-44ef-ae21-4d4ceac70232"
      },
      "outputs": [
        {
          "output_type": "stream",
          "name": "stdout",
          "text": [
            "calcular:\n",
            "*Promedio de a\n",
            "--Prom de a = 3.0\n",
            "\n",
            "*Promedio de b\n",
            "--Prom de b = 8.0\n",
            "\n",
            "*5 x pa\n",
            "--5 x Prom de a= 15.0\n"
          ]
        }
      ],
      "source": [
        "a=[1,2,3,4,5]\n",
        "b=[6,7,8,9,10]\n",
        "\n",
        "print(\"a=\", a)\n",
        "print(\"b=\", b)\n",
        "\n",
        "print(\" \")\n",
        "print(\"calcular:\")\n",
        "print(\"*Promedio de a\")\n",
        "\n",
        "pa=(sum(a))/(len(a))\n",
        "print(\" Promedio de a =\", pa)\n",
        "\n",
        "print(\"\\n*Promedio de b\")\n",
        "pb=(sum(b))/(len(b))\n",
        "print(\" Promedio de de b =\", pb)\n",
        "\n",
        "print(\"\\n*5 x pa\")\n",
        "print(\"-- 5 * Prom de a=\", 5*pa)\n"
      ]
    }
  ]
}