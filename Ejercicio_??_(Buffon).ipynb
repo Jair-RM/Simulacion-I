{
  "nbformat": 4,
  "nbformat_minor": 0,
  "metadata": {
    "colab": {
      "private_outputs": true,
      "provenance": [],
      "authorship_tag": "ABX9TyM2tdixpUd2Sm+tZisM5Gpo",
      "include_colab_link": true
    },
    "kernelspec": {
      "name": "python3",
      "display_name": "Python 3"
    },
    "language_info": {
      "name": "python"
    }
  },
  "cells": [
    {
      "cell_type": "markdown",
      "metadata": {
        "id": "view-in-github",
        "colab_type": "text"
      },
      "source": [
        "<a href=\"https://colab.research.google.com/github/Jair-RM/Simulacion-I/blob/main/Ejercicio_%3F%3F_(Buffon).ipynb\" target=\"_parent\"><img src=\"https://colab.research.google.com/assets/colab-badge.svg\" alt=\"Open In Colab\"/></a>"
      ]
    },
    {
      "cell_type": "code",
      "execution_count": null,
      "metadata": {
        "id": "ChZHwGyRx4tX"
      },
      "outputs": [],
      "source": [
        "import math\n",
        "import random\n",
        "import numpy as np\n",
        "import matplotlib.pyplot as plt"
      ]
    },
    {
      "cell_type": "code",
      "source": [
        "x=np.linspace(0, 1, 100)\n",
        "\n",
        "\n",
        "import numpy as np\n",
        "\n",
        "# Parámetros del experimento\n",
        "num = 1000000  # Número de lanzamientos\n",
        "L = 1.0  # Longitud de la aguja\n",
        "D = 2.0   # Distancia entre las líneas (debe ser mayor que L)\n",
        "\n",
        "# Inicializar contador de cruces\n",
        "c = 0\n",
        "t = 0\n",
        "\n",
        "# Simulación del experimento\n",
        "while t < num:\n",
        "    # Generar posición aleatoria para el centro de la aguja (entre 0 y L/2)\n",
        "    center_y = np.random.uniform(0, L/2)\n",
        "\n",
        "    # Generar ángulo aleatorio para la aguja (entre 0 y pi/2)\n",
        "    theta = np.random.uniform(0, np.pi/2)\n",
        "\n",
        "    # Calcular extremo superior de la aguja\n",
        "    endpoint_y = center_y + D/2 * np.sin(theta)\n",
        "\n",
        "    # Verificar si la aguja cruza alguna línea\n",
        "    if endpoint_y > L/2:\n",
        "        c += 1\n",
        "\n",
        "    t += 1\n",
        "\n",
        "# Calcular aproximación de pi\n",
        "if c > 0:\n",
        "    piaprox = (2 * D * num) / (c * L)\n",
        "else:\n",
        "    piaprox = 0.0\n",
        "\n",
        "# Mostrar resultado\n",
        "print(f\"Aproximación de pi usando el experimento del Buffon con {num} lanzamientos: {piaprox}\")\n",
        "\n",
        "\n",
        "\n",
        "z=pow(1-pow(x,2), 0.5)\n",
        "plt.plot(x, z)\n",
        "plt.scatter(u1, u2, color=\"red\")\n",
        "plt.show()\n",
        "\n",
        "\n",
        "\n",
        "\n",
        "\n",
        "#plt.hist(G, bins=50)"
      ],
      "metadata": {
        "id": "CXRwQorA1UtE"
      },
      "execution_count": null,
      "outputs": []
    },
    {
      "cell_type": "code",
      "source": [
        "\n",
        "#media=np.mean(G)\n",
        "#varianza= np.var(G)\n",
        "\n",
        "#X,Y=cdf(G)\n",
        "#plt.step(X,Y)\n",
        "#plt.step(X,Y)\n",
        "#plt.xlim(2, 4)\n",
        "#plt.show()"
      ],
      "metadata": {
        "id": "wUqcvsjr1dQc"
      },
      "execution_count": null,
      "outputs": []
    },
    {
      "cell_type": "code",
      "source": [
        "#plt.step(X, Y)\n",
        "# media\n",
        "#plt.axvline(media, color=\"yellow\")\n",
        "# mediana\n",
        "#plt.axhline(0.5, color=\"red\")"
      ],
      "metadata": {
        "id": "rqx8QOoM1hrz"
      },
      "execution_count": null,
      "outputs": []
    }
  ]
}