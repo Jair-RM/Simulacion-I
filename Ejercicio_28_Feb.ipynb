{
  "nbformat": 4,
  "nbformat_minor": 0,
  "metadata": {
    "colab": {
      "provenance": [],
      "authorship_tag": "ABX9TyNEQJsJiV3HaiO8UcwXwkfX",
      "include_colab_link": true
    },
    "kernelspec": {
      "name": "python3",
      "display_name": "Python 3"
    },
    "language_info": {
      "name": "python"
    }
  },
  "cells": [
    {
      "cell_type": "markdown",
      "metadata": {
        "id": "view-in-github",
        "colab_type": "text"
      },
      "source": [
        "<a href=\"https://colab.research.google.com/github/Jair-RM/Simulacion-I/blob/main/Ejercicio_28_Feb.ipynb\" target=\"_parent\"><img src=\"https://colab.research.google.com/assets/colab-badge.svg\" alt=\"Open In Colab\"/></a>"
      ]
    },
    {
      "cell_type": "code",
      "execution_count": 11,
      "metadata": {
        "colab": {
          "base_uri": "https://localhost:8080/"
        },
        "id": "l8hYhDDguYbt",
        "outputId": "8c1bc7cd-92f1-4586-ab94-aecffb54f408"
      },
      "outputs": [
        {
          "output_type": "stream",
          "name": "stdout",
          "text": [
            "Metodo de congruencia\n",
            "Xn+1=aXn+c  (mod % m), 0<x0<m:\n",
            "Metodo de congruencia\n",
            "Xn+1=aXn+c  (mod % m), 0<Xn<m\n",
            "Ingresa un numero entero a: 17\n",
            "Ingresa un numero entero c: 43\n",
            "Ingresa un numero entero para el modulo m: 100\n",
            "Ingresa un numero entero, debe ser menor al modulo, x0: 27\n",
            "Ingresa un numero de iteraciones que quiera realizar f: 8\n",
            "se requieren 5 iteraciones para que se repitan los numeros\n",
            "Los valores enteros que surgen son: \n",
            "\t [27, 2, 77, 52, 27, 2, 77, 52, 27]\n",
            "Los valores aleatoris son: \n",
            "\t [1.687, 0.125, 4.812, 3.25, 1.687, 0.125, 4.812, 3.25]\n"
          ]
        }
      ],
      "source": [
        "# Ejercicio 1. Usar el metodo de congruencia con:\n",
        "#              x0=27    a=17    c=43  y   m=100\n",
        "print(\"Metodo de congruencia:\")\n",
        "#Xn+1=aXn+c  (mod % m), 0<x0<m:\n",
        "a=int(input(\"Ingresa un numero entero a: \"))\n",
        "c=int(input(\"Ingresa un numero entero c: \"))\n",
        "m=int(input(\"Ingresa un numero entero para el modulo m: \"))\n",
        "x0=int(input(\"Ingresa un numero entero, debe ser menor al modulo, x0: \"))\n",
        "x=[x0]\n",
        "if m<=x0:\n",
        "  print(\"No se puede hacer, el modulo debe ser menor\")\n",
        "if m>x0:\n",
        "  f=int(input(\"Ingresa un numero de iteraciones que quiera realizar f: \"))\n",
        "  n=0\n",
        "  j=2\n",
        "  xn=[]\n",
        "  g=[]\n",
        "  while f>0:\n",
        "    x1=(a*x0+c)%m\n",
        "    xn1=x0/16\n",
        "    xn1=xn1*1000\n",
        "    xn1=int(xn1)\n",
        "    xn1=xn1/1000\n",
        "    xn.append(xn1)\n",
        "    x0=x1\n",
        "    x.append(x0)\n",
        "    f-=1\n",
        "  #Contar desde que iteracion se empieza a repetir\n",
        "  for i in xn:\n",
        "    for h in xn:\n",
        "      if h!=i:\n",
        "        j+=1\n",
        "      if i==h:\n",
        "        g.append(j)\n",
        "  print(\"se requieren\", g[1], \"iteraciones para que se repitan los numeros\")\n",
        "  print(\"Los valores enteros que surgen son: \\n\\t\", x)\n",
        "  print(\"Los valores aleatorios son: \\n\\t\",xn)\n",
        ""
      ]
    },
    {
      "cell_type": "code",
      "source": [
        "# Ejercicio 2. usar el metodo de congruenncia con:\n",
        "#              x0=1,2,3,4    a=13   m=2^6=64    c=0\n",
        "print(\"Metodo de congruencia\")\n",
        "print(\"Xn+1=aXn+c  (mod % m), 0<x0<m:\")\n",
        "print(\"Metodo de congruencia\")\n",
        "print(\"Xn+1=aXn+c  (mod % m), 0<Xn<m\")\n",
        "a=int(input(\"Ingresa un numero entero a: \"))\n",
        "c=int(input(\"Ingresa un numero entero c: \"))\n",
        "m=int(input(\"Ingresa un numero entero para el modulo m: \"))\n",
        "y=3\n",
        "while y>0:\n",
        "  x0=int(input(\"Ingresa un numero entero, debe ser menor al modulo, x0: \"))\n",
        "  x9=x0\n",
        "  x=[x0]\n",
        "  if m<=x0:\n",
        "    print(\"No se puede hacer, el modulo debe ser menor5\")\n",
        "  if m>x0:\n",
        "    f=int(input(\"Ingresa un numero de iteraciones que quiera realizar f: \"))\n",
        "    n=0\n",
        "    j=2\n",
        "    xn=[]\n",
        "    g=[]\n",
        "\n",
        "    while f>0:\n",
        "      x1=(a*x0+c)%m\n",
        "      xn1=x0/16\n",
        "      xn1=xn1*1000\n",
        "      xn1=int(xn1)\n",
        "      xn1=xn1/1000\n",
        "      xn.append(xn1)\n",
        "      x0=x1\n",
        "      x.append(x0)\n",
        "      f-=1\n",
        "    #Contar desde que iteracion se empieza a repetir\n",
        "    for i in xn:\n",
        "      for h in xn:\n",
        "        if h!=i:\n",
        "          j+=1\n",
        "        if i==h:\n",
        "          g.append(j)\n",
        "    print(\"   Para X0=\",x9)\n",
        "    print(\"\\tLos numeros enteros que se generan son:\")\n",
        "    print(\"\\t \",x)\n",
        "    print(\"\\tSe requieren\", g[1], \"iteraciones para que se repitan los numeros\")\n",
        "    print(\"\\t\",xn)\n",
        "    y-=1\n"
      ],
      "metadata": {
        "colab": {
          "base_uri": "https://localhost:8080/"
        },
        "id": "fww5Si57vGq7",
        "outputId": "0ccc5e25-a538-44f7-d3e3-145416c3ed05"
      },
      "execution_count": null,
      "outputs": [
        {
          "output_type": "stream",
          "name": "stdout",
          "text": [
            "Metodo de congruencia\n",
            "Xn+1=aXn+c  (mod % m), 0<x0<m:\n",
            "Metodo de congruencia\n",
            "Xn+1=aXn+c  (mod % m), 0<Xn<m\n",
            "Ingresa un numero entero a: 13\n",
            "Ingresa un numero entero c: 0\n",
            "Ingresa un numero entero para el modulo m: 64\n",
            "Ingresa un numero entero, debe ser menor al modulo, x0: 1\n",
            "Ingresa un numero de iteraciones que quiera realizar f: 10\n",
            "\tPara X0= 1\n",
            "\tLos numeros enteros que se generan son:\n",
            "\t [1, 13, 41, 21, 17, 29, 57, 37, 33, 45, 9]\n",
            "\tse requieren 12 iteraciones para que se repitan los numeros\n",
            "\t [0.062, 0.812, 2.562, 1.312, 1.062, 1.812, 3.562, 2.312, 2.062, 2.812]\n",
            "Ingresa un numero entero, debe ser menor al modulo, x0: 2\n",
            "Ingresa un numero de iteraciones que quiera realizar f: 9\n",
            "\tPara X0= 2\n",
            "\tLos numeros enteros que se generan son:\n",
            "\t [2, 26, 18, 42, 34, 58, 50, 10, 2, 26]\n",
            "\tse requieren 9 iteraciones para que se repitan los numeros\n",
            "\t [0.125, 1.625, 1.125, 2.625, 2.125, 3.625, 3.125, 0.625, 0.125]\n"
          ]
        }
      ]
    }
  ]
}