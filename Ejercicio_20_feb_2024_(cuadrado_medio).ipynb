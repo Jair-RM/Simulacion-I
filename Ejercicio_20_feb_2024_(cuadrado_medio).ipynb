{
  "nbformat": 4,
  "nbformat_minor": 0,
  "metadata": {
    "colab": {
      "provenance": [],
      "authorship_tag": "ABX9TyOAkrZ0M3bZik59M0XkyUZt",
      "include_colab_link": true
    },
    "kernelspec": {
      "name": "python3",
      "display_name": "Python 3"
    },
    "language_info": {
      "name": "python"
    }
  },
  "cells": [
    {
      "cell_type": "markdown",
      "metadata": {
        "id": "view-in-github",
        "colab_type": "text"
      },
      "source": [
        "<a href=\"https://colab.research.google.com/github/Jair-RM/Simulacion-I/blob/main/Ejercicio_20_feb_2024_(cuadrado_medio).ipynb\" target=\"_parent\"><img src=\"https://colab.research.google.com/assets/colab-badge.svg\" alt=\"Open In Colab\"/></a>"
      ]
    },
    {
      "cell_type": "code",
      "execution_count": 18,
      "metadata": {
        "colab": {
          "base_uri": "https://localhost:8080/"
        },
        "id": "TXTfrNGrlYea",
        "outputId": "f2bfd13f-ffc4-46cc-a01d-95f82aae7f91"
      },
      "outputs": [
        {
          "output_type": "stream",
          "name": "stdout",
          "text": [
            "Ingrese un numero de 4 digitos: 9575\n",
            "EL numero 91680625 es de  8 digitos\n",
            "el nuevo numero es: 6806\n",
            "EL numero 46321636 es de  8 digitos\n",
            "el nuevo numero es: 3216\n",
            "EL numero 10342656 es de  8 digitos\n",
            "el nuevo numero es: 3426\n",
            "EL numero 11737476 es de  8 digitos\n",
            "el nuevo numero es: 7374\n",
            "EL numero 54375876 es de  8 digitos\n",
            "el nuevo numero es: 3758\n",
            "EL numero 14122564 es de  8 digitos\n",
            "el nuevo numero es: 1225\n",
            "EL numero 1500625 es de  7 digitos\n",
            "el nuevo numero es: 5006\n",
            "EL numero 25060036 es de  8 digitos\n",
            "el nuevo numero es: 600\n",
            "Eltimo numero generado es: 0 600\n",
            "La secuencia de numeros aleatorios es:\n",
            "      [9575, 6806, 3216, 3426, 7374, 3758, 1225, 5006, 600]\n"
          ]
        }
      ],
      "source": [
        "import math\n",
        "num=int(input(\"Ingrese un numero de 4 digitos: \"))\n",
        "x=num/1000\n",
        "# Verificar que realmente sea un nume de 4 digitos\n",
        "while x<1 and x>10:\n",
        "  print(\"NO! tiene que ser un numero de 4 digitos!\")\n",
        "  num=int(input(\"Ingrese un numero de 4 digito: \"))\n",
        "  x=num/1000\n",
        "y=[num]\n",
        "x=num/1000\n",
        "e=0\n",
        "while x<10 and x>1:\n",
        "  cu=pow(num, 2)\n",
        "  k=1\n",
        "  s=cu/10\n",
        "  while s>1:\n",
        "   s=s/10\n",
        "   k+=1\n",
        "  print(\"EL numero\", cu, \"es de \", k, \"digitos\")\n",
        "\n",
        "  m=k%2\n",
        "  if m==1:\n",
        "    n=k-4\n",
        "    n=n/2\n",
        "    s=str(cu)\n",
        "    o=int(n)\n",
        "    r=o+4\n",
        "    nuevo=\"\"\n",
        "    l=1\n",
        "    for i in s:\n",
        "     if l<=r and l>o:\n",
        "       nuevo+=i\n",
        "     l+=1\n",
        "    nue=int(nuevo)\n",
        "    print(\"el nuevo numero es:\", nue)\n",
        "    num=nue\n",
        "    y.append(num)\n",
        "\n",
        "  if m==0:\n",
        "   n=k-4\n",
        "   o=int(n/2)\n",
        "   s=str(cu)\n",
        "   r=o+4\n",
        "   nuevo=\"\"\n",
        "   l=1\n",
        "   for i in s:\n",
        "    if l<=r and l>o:\n",
        "      nuevo+=i\n",
        "    l+=1\n",
        "   nue=int(nuevo)\n",
        "   print(\"el nuevo numero es:\", nue)\n",
        "   num=nue\n",
        "   y.append(num)\n",
        "  x=num/1000\n",
        "  e+=1\n",
        "  if e==10:\n",
        "    x=20\n",
        "\n",
        "print(\"Eltimo numero generado es: 0\", num)\n",
        "print(\"La secuencia de numeros aleatorios es:\")\n",
        "print(\"     \", y)"
      ]
    }
  ]
}