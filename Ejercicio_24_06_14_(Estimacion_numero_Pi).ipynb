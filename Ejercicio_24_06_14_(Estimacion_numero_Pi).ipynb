{
  "nbformat": 4,
  "nbformat_minor": 0,
  "metadata": {
    "colab": {
      "private_outputs": true,
      "provenance": [],
      "authorship_tag": "ABX9TyMzaqOWwkVLXDbQfBla1wQk",
      "include_colab_link": true
    },
    "kernelspec": {
      "name": "python3",
      "display_name": "Python 3"
    },
    "language_info": {
      "name": "python"
    }
  },
  "cells": [
    {
      "cell_type": "markdown",
      "metadata": {
        "id": "view-in-github",
        "colab_type": "text"
      },
      "source": [
        "<a href=\"https://colab.research.google.com/github/Jair-RM/Simulacion-I/blob/main/Ejercicio_24_06_14_(Estimacion_numero_Pi).ipynb\" target=\"_parent\"><img src=\"https://colab.research.google.com/assets/colab-badge.svg\" alt=\"Open In Colab\"/></a>"
      ]
    },
    {
      "cell_type": "code",
      "execution_count": null,
      "metadata": {
        "id": "884mAKe9aWxs"
      },
      "outputs": [],
      "source": [
        "import math\n",
        "import random\n",
        "import numpy as np\n",
        "import matplotlib.pyplot as plt"
      ]
    },
    {
      "cell_type": "code",
      "source": [
        "x=np.linspace(0, 1, 100)\n",
        "u1=random.random()\n",
        "u2=random.random()\n",
        "z=pow(1-pow(x,2), 0.5)\n",
        "plt.plot(x, z)\n",
        "plt.scatter(u1, u2, color=\"red\")\n",
        "plt.show()\n",
        "\n",
        "\n",
        "\n",
        "media=np.mean(G)\n",
        "varianza= np.var(G)\n",
        "\n",
        "#plt.hist(G, bins=50)"
      ],
      "metadata": {
        "id": "y3aoYI6mcKH1"
      },
      "execution_count": null,
      "outputs": []
    },
    {
      "cell_type": "code",
      "source": [
        "def estimacion(N):\n",
        "  l=[]\n",
        "  exitos=0\n",
        "  for i in range(N):\n",
        "    u1=random.random()\n",
        "    u2=random.random()\n",
        "    if u2<=pow(1-u1**2, 0.5):\n",
        "      exitos+=1\n",
        "    prob=exitos/(i+1)\n",
        "    l.append(4*prob)\n",
        "  return l\n",
        "\n",
        "G=estimacion(1000)\n",
        "plt.plot(G)\n"
      ],
      "metadata": {
        "id": "ScMotP7UjXSQ"
      },
      "execution_count": null,
      "outputs": []
    },
    {
      "cell_type": "code",
      "source": [
        "def cdf(G):\n",
        "  n=len(G)\n",
        "  x=np.sort(G)\n",
        "  y=np.arange(0, len(G))/len(G)\n",
        "  return x,y\n",
        "\n",
        "X,Y=cdf(G)\n",
        "plt.step(X,Y)\n",
        "plt.step(X,Y)\n",
        "plt.xlim(2, 4)\n",
        "plt.show()"
      ],
      "metadata": {
        "id": "T5x8E-rucQ2B"
      },
      "execution_count": null,
      "outputs": []
    },
    {
      "cell_type": "code",
      "source": [
        "plt.step(X, Y)\n",
        "# media\n",
        "plt.axvline(media, color=\"yellow\")\n",
        "# mediana\n",
        "plt.axhline(0.5, color=\"red\")"
      ],
      "metadata": {
        "id": "ScpEnTeZlys8"
      },
      "execution_count": null,
      "outputs": []
    }
  ]
}