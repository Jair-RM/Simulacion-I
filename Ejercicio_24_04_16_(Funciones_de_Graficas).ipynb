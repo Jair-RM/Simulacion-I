{
  "nbformat": 4,
  "nbformat_minor": 0,
  "metadata": {
    "colab": {
      "provenance": [],
      "authorship_tag": "ABX9TyPoFdttF5c906jrDsh9dFxf",
      "include_colab_link": true
    },
    "kernelspec": {
      "name": "python3",
      "display_name": "Python 3"
    },
    "language_info": {
      "name": "python"
    }
  },
  "cells": [
    {
      "cell_type": "markdown",
      "metadata": {
        "id": "view-in-github",
        "colab_type": "text"
      },
      "source": [
        "<a href=\"https://colab.research.google.com/github/Jair-RM/Simulacion-I/blob/main/Ejercicio_24_04_16_(Funciones_de_Graficas).ipynb\" target=\"_parent\"><img src=\"https://colab.research.google.com/assets/colab-badge.svg\" alt=\"Open In Colab\"/></a>"
      ]
    },
    {
      "cell_type": "code",
      "execution_count": null,
      "metadata": {
        "id": "Q2iln_KELo6Q"
      },
      "outputs": [],
      "source": [
        "import math\n",
        "import random as rnd\n",
        "import numpy as np\n",
        "import matplotlib.pyplot as plt\n",
        "\n",
        "a=5\n",
        "b=17\n",
        "c=10\n",
        "\n",
        "num=100\n",
        "\n",
        "numeros=[]\n",
        "while num!=0:\n",
        "  u=randint(a, b)\n",
        "  if a<u and u<=c:\n",
        "    x=sqr(u*(b-a)*(c-a)) + a\n",
        "  if c<u and u<b:\n",
        "    x=b-sqr((1-u)*(b-a)*(b-c))\n",
        "  numeros.append(x)\n",
        "  num-=1\n",
        "\n",
        "media=np.mean(numeros)\n",
        "varianza= np.var(numeros)\n",
        "\n",
        "\n",
        "print(\"La media es \", media)\n",
        "\n",
        "print(\"La varianza es \", varianza)\n",
        "\n",
        "plt.hist(numeros)\n",
        "\n",
        "rnd"
      ]
    },
    {
      "cell_type": "code",
      "source": [
        "\n",
        "num=100\n",
        "\n",
        "numeros=[]\n",
        "while num!=0:\n",
        "  u=rnd()\n",
        "  m=(5/4)+sqr((25/16)-2*u)\n",
        "  if 0<=u and u<=1/4:\n",
        "    x=sqr(ss\n",
        "  if c<u and u<b:\n",
        "    x=b-sqr((1-u)*(b-a)*(b-c))\n",
        "  numeros.append(x)\n",
        "  num-=1\n",
        "\n",
        "media=np.mean(numeros)\n",
        "varianza= np.var(numeros)\n",
        "\n",
        "\n",
        "print(\"La media es \", media)\n",
        "\n",
        "print(\"La varianza es \", varianza)\n",
        "\n",
        "plt.hist(numeros)\n",
        "\n"
      ],
      "metadata": {
        "id": "US3p48q7Luii"
      },
      "execution_count": null,
      "outputs": []
    }
  ]
}