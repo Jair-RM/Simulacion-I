{
  "nbformat": 4,
  "nbformat_minor": 0,
  "metadata": {
    "colab": {
      "provenance": [],
      "authorship_tag": "ABX9TyNNWbUgt9OsRpT7hdcwKAru",
      "include_colab_link": true
    },
    "kernelspec": {
      "name": "python3",
      "display_name": "Python 3"
    },
    "language_info": {
      "name": "python"
    }
  },
  "cells": [
    {
      "cell_type": "markdown",
      "metadata": {
        "id": "view-in-github",
        "colab_type": "text"
      },
      "source": [
        "<a href=\"https://colab.research.google.com/github/Jair-RM/Simulacion-I/blob/main/Ejercicio_24_03_12.ipynb\" target=\"_parent\"><img src=\"https://colab.research.google.com/assets/colab-badge.svg\" alt=\"Open In Colab\"/></a>"
      ]
    },
    {
      "cell_type": "code",
      "execution_count": 2,
      "metadata": {
        "colab": {
          "base_uri": "https://localhost:8080/"
        },
        "id": "dU5gBbKz_hcp",
        "outputId": "581b56a1-c774-47fb-8904-7ef788e46fab"
      },
      "outputs": [
        {
          "output_type": "stream",
          "name": "stdout",
          "text": [
            "Nuestra hipotesis nula será\n",
            "Ho: Una distribucion normal es una buena descripción  del patron\n",
            "con un nivel de significancia de 0.05\n",
            "Para la distribución uniforme tenemos:\n",
            "          x-a               1\n",
            "P(X<x) = -----     P(X) = -----\n",
            "          b-a              b-a\n",
            "99.0\n",
            "98.0\n"
          ]
        }
      ],
      "source": [
        "x=[0.78, 0.98, 0.24, 0.73, 0.43, 0.16, 0.78, 0.47, 0.18, 0.55]\n",
        "x.extend([0.04, 0.29, 0.68, 0.77, 0.16, 0.03, 0.79, 0.22, 0.37, 0.80])\n",
        "x.extend([0.96, 0.26, 0.91, 0.55, 0.75, 0.55, 0.64, 0.39, 0.53, 0.45])\n",
        "x.extend([0.61, 0.14, 0.38, 0.12, 0.40, 0.74, 0.78, 0.98, 0.27, 0.60])\n",
        "x.extend([0.43, 0.67, 0.62, 0.32, 0.53, 0.54, 0.24, 0.29, 0.18, 0.08])\n",
        "x.extend([0.82, 0.94, 0.19, 0.98, 0.41, 1.00, 0.74, 0.92, 0.14, 0.43])\n",
        "x.extend([0.83, 0.88, 0.18, 0.21, 0.50, 0.13, 0.43, 0.69, 0.08, 0.12])\n",
        "x.extend([0.22, 0.50, 0.16, 0.11, 0.18, 0.89, 0.80, 0.42, 0.29, 0.87])\n",
        "x.extend([0.83, 0.79, 0.65, 0.28, 0.78, 0.49, 0.36, 0.86, 0.87, 0.64])\n",
        "x.extend([0.51, 0.07, 0.18, 0.94, 0.50, 0.22, 0.66, 0.91, 0.48, 0.24])\n",
        "\n",
        "#Para ordenar de forma ascendente usamos lista.sort()\n",
        "x1=x\n",
        "x1.sort()\n",
        "\n",
        "\n",
        "min=x1[0]\n",
        "n=len(x1)\n",
        "max=x1[n-1]\n",
        "print(\"Nuestra hipotesis nula será\")\n",
        "print(\"Ho: Una distribucion normal es una buena descripción  del patron\")\n",
        "print(\"con un nivel de significancia de 0.05\")\n",
        "#Usamos la formula de la distribución\n",
        "print(\"Para la distribución uniforme tenemos:\")\n",
        "print(\"          x-a               1\")\n",
        "print(\"P(X<x) = -----     P(X) = -----\")\n",
        "print(\"          b-a              b-a\")\n",
        "\n",
        "p=(1)/(max-min)\n",
        "n=0\n",
        "DM=0\n",
        "Dm=0\n",
        "for i in x1:\n",
        "  n+=1\n",
        "  h1=abs((n/max)-i)\n",
        "  h2=abs((i-((n-1)/max)))\n",
        "  if DM<h1:\n",
        "    DM=h1\n",
        "  if Dm<h2:\n",
        "    Dm=h2\n",
        "if DM<Dm:\n",
        "  mayor=Dm\n",
        "if Dm<DM:\n",
        "  mayor=DM\n",
        "\n",
        "print(DM)\n",
        "print(Dm)"
      ]
    },
    {
      "cell_type": "code",
      "source": [
        "import math\n",
        "import matplotlib\n",
        "import matplotlib.pyplot as plt\n",
        "import numpy as np\n",
        "\n",
        "x=[0.8797, 0.9848, 0.4557, 0.9170, 0.8376]\n",
        "x.extend([0.3884, 0.3469, 0.1592, 0.2204, 0.6235])\n",
        "x.extend([0.6289, 0.7977, 0.8536, 0.5991, 0.3681])\n",
        "x.extend([0.8750, 0.5844, 0.8846, 0.5461, 0.2088])\n",
        "x.extend([0.5999, 0.8147, 0.3410, 0.5739, 0.1525])\n",
        "x.extend([0.8589, 0.6431, 0.1492, 0.3254, 0.2006])\n",
        "x.extend([0.9996, 0.7387, 0.8681, 0.0856, 0.4720])\n",
        "x.extend([0.2415, 0.5613, 0.5291, 0.2258, 0.4272])\n",
        "x.extend([0.3808, 0.0318, 0.3188, 0.4603, 0.6360])\n",
        "x.extend([0.9606, 0.7401, 0.5992, 0.5027, 0.0954])\n",
        "\n",
        "#Para ordenar de forma ascendente usamos lista.sort()\n",
        "x1=x\n",
        "x1.sort()\n",
        "n2=[]\n",
        "num=0\n",
        "for i in x1:\n",
        "  num+=1\n",
        "  n2.append(num)\n",
        "min=x1[0]\n",
        "max=x1[num-1]\n",
        "\n",
        "print(\"Nuestra hipotesis nula será\")\n",
        "print(\"Ho: Una distribucion normal es una buena descripción  del patron\")\n",
        "print(\"con un nivel de significancia de 0.05\")\n",
        "#Usamos la formula de la distribución\n",
        "print(\"Para la distribución uniforme tenemos:\")\n",
        "print(\"          x-a               1\")\n",
        "print(\"P(X<x) = -----     P(X) = -----\")\n",
        "print(\"          b-a              b-a\")\n",
        "\n",
        "p=(1)/(max-min)\n",
        "n=0\n",
        "DM=0\n",
        "Dm=0\n",
        "for i in x1:\n",
        "  n+=1\n",
        "  h1=abs((n/50)-i)\n",
        "  h2=abs((i-((n-1)/50)))\n",
        "  if DM<h1:\n",
        "    DM=h1\n",
        "  if Dm<h2:\n",
        "    Dm=h2\n",
        "if DM<Dm:\n",
        "  mayor=Dm\n",
        "if Dm<DM:\n",
        "  mayor=DM\n",
        "print(DM)\n",
        "print(Dm)\n",
        "\n",
        "\n",
        "fig, ax = plt.subplots()\n",
        "#        eje x           eje y\n",
        "ax.plot(n2, x1)\n",
        "plt.show()\n",
        "\n"
      ],
      "metadata": {
        "colab": {
          "base_uri": "https://localhost:8080/",
          "height": 610
        },
        "id": "JuQxoJUAJkrD",
        "outputId": "75538af8-6800-402a-848c-1dd16206e25d"
      },
      "execution_count": 11,
      "outputs": [
        {
          "output_type": "stream",
          "name": "stdout",
          "text": [
            "Nuestra hipotesis nula será\n",
            "Ho: Una distribucion normal es una buena descripción  del patron\n",
            "con un nivel de significancia de 0.05\n",
            "Para la distribución uniforme tenemos:\n",
            "          x-a               1\n",
            "P(X<x) = -----     P(X) = -----\n",
            "          b-a              b-a\n",
            "0.07879999999999998\n",
            "0.09879999999999997\n"
          ]
        },
        {
          "output_type": "display_data",
          "data": {
            "text/plain": [
              "<Figure size 640x480 with 1 Axes>"
            ],
            "image/png": "[encoded data removed]"
          },
          "metadata": {}
        }
      ]
    }
  ]
}