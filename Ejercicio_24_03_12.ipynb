{
  "nbformat": 4,
  "nbformat_minor": 0,
  "metadata": {
    "colab": {
      "provenance": [],
      "authorship_tag": "ABX9TyNN5YPegCbkczOhnyNrFHWC",
      "include_colab_link": true
    },
    "kernelspec": {
      "name": "python3",
      "display_name": "Python 3"
    },
    "language_info": {
      "name": "python"
    }
  },
  "cells": [
    {
      "cell_type": "markdown",
      "metadata": {
        "id": "view-in-github",
        "colab_type": "text"
      },
      "source": [
        "<a href=\"https://colab.research.google.com/github/Jair-RM/Simulacion-I/blob/main/Ejercicio_24_03_12.ipynb\" target=\"_parent\"><img src=\"https://colab.research.google.com/assets/colab-badge.svg\" alt=\"Open In Colab\"/></a>"
      ]
    },
    {
      "cell_type": "code",
      "execution_count": 5,
      "metadata": {
        "colab": {
          "base_uri": "https://localhost:8080/",
          "height": 211
        },
        "id": "dU5gBbKz_hcp",
        "outputId": "818b3730-5f8e-4660-fba7-dcc7e7ee93f8"
      },
      "outputs": [
        {
          "output_type": "error",
          "ename": "TypeError",
          "evalue": "'NoneType' object is not subscriptable",
          "traceback": [
            "\u001b[0;31m---------------------------------------------------------------------------\u001b[0m",
            "\u001b[0;31mTypeError\u001b[0m                                 Traceback (most recent call last)",
            "\u001b[0;32m<ipython-input-5-7d0e6652d853>\u001b[0m in \u001b[0;36m<cell line: 16>\u001b[0;34m()\u001b[0m\n\u001b[1;32m     14\u001b[0m \u001b[0;34m\u001b[0m\u001b[0m\n\u001b[1;32m     15\u001b[0m \u001b[0;34m\u001b[0m\u001b[0m\n\u001b[0;32m---> 16\u001b[0;31m \u001b[0mmin\u001b[0m\u001b[0;34m=\u001b[0m\u001b[0mx1\u001b[0m\u001b[0;34m[\u001b[0m\u001b[0;36m0\u001b[0m\u001b[0;34m]\u001b[0m\u001b[0;34m\u001b[0m\u001b[0;34m\u001b[0m\u001b[0m\n\u001b[0m\u001b[1;32m     17\u001b[0m \u001b[0mn\u001b[0m\u001b[0;34m=\u001b[0m\u001b[0mlen\u001b[0m\u001b[0;34m(\u001b[0m\u001b[0mx1\u001b[0m\u001b[0;34m)\u001b[0m\u001b[0;34m\u001b[0m\u001b[0;34m\u001b[0m\u001b[0m\n\u001b[1;32m     18\u001b[0m \u001b[0mmax\u001b[0m\u001b[0;34m=\u001b[0m\u001b[0mx1\u001b[0m\u001b[0;34m[\u001b[0m\u001b[0mn\u001b[0m\u001b[0;34m-\u001b[0m\u001b[0;36m1\u001b[0m\u001b[0;34m]\u001b[0m\u001b[0;34m\u001b[0m\u001b[0;34m\u001b[0m\u001b[0m\n",
            "\u001b[0;31mTypeError\u001b[0m: 'NoneType' object is not subscriptable"
          ]
        }
      ],
      "source": [
        "x=[0.78, 0.98, 0.24, 0.73, 0.43, 0.16, 0.78, 0.47, 0.18, 0.55]\n",
        "x.extend([0.04, 0.29, 0.68, 0.77, 0.16, 0.03, 0.79, 0.22, 0.37, 0.80])\n",
        "x.extend([0.96, 0.26, 0.91, 0.55, 0.75, 0.55, 0.64, 0.39, 0.53, 0.45])\n",
        "x.extend([0.61, 0.14, 0.38, 0.12, 0.40, 0.74, 0.78, 0.98, 0.27, 0.60])\n",
        "x.extend([0.43, 0.67, 0.62, 0.32, 0.53, 0.54, 0.24, 0.29, 0.18, 0.08])\n",
        "x.extend([0.82, 0.94, 0.19, 0.98, 0.41, 1.00, 0.74, 0.92, 0.14, 0.43])\n",
        "x.extend([0.83, 0.88, 0.18, 0.21, 0.50, 0.13, 0.43, 0.69, 0.08, 0.12])\n",
        "x.extend([0.22, 0.50, 0.16, 0.11, 0.18, 0.89, 0.80, 0.42, 0.29, 0.87])\n",
        "x.extend([0.83, 0.79, 0.65, 0.28, 0.78, 0.49, 0.36, 0.86, 0.87, 0.64])\n",
        "x.extend([0.51, 0.07, 0.18, 0.94, 0.50, 0.22, 0.66, 0.91, 0.48, 0.24])\n",
        "\n",
        "#Para ordenar de forma ascendente usamos lista.sort()\n",
        "x1=x.sort()\n",
        "\n",
        "\n",
        "min=x1[0]\n",
        "n=len(x1)\n",
        "max=x1[n-1]\n",
        "print(\"Nuestra hipotesis nula será\")\n",
        "print(\"Ho: Una distribucion normal es una buena descripción  del patron\")\n",
        "print(\"con un nivel de significancia de 0.05\")\n",
        "#Usamos la formula de la distribución\n",
        "print(\"Para la distribución uniforme tenemos:\")\n",
        "print(\"          x-a               1\")\n",
        "print(\"P(X<x) = -----     P(X) = -----\")\n",
        "print(\"          b-a              b-a\")\n",
        "\n",
        "p=(1)/(max-min)\n",
        "n=0\n",
        "DM=0\n",
        "Dm=0\n",
        "for i in x1:\n",
        "  n+=1\n",
        "  h1=abs((n/max)-i)\n",
        "  h2=abs((i-((n-1)/max)))\n",
        "  if DM<h1:\n",
        "    DM=h1\n",
        "  if Dm<h2:\n",
        "    Dm=h2\n",
        "if DM<Dm:\n",
        "  mayor=Dm\n",
        "if Dm<DM:\n",
        "  mayor=DM\n",
        "\n",
        "print(DM)\n",
        "print(Dm)"
      ]
    },
    {
      "cell_type": "code",
      "source": [
        "x=[0.78, 0.98, 0.24, 0.73, 0.43, 0.16, 0.78, 0.47, 0.18, 0.55]\n",
        "x.extend([0.04, 0.29, 0.68, 0.77, 0.16, 0.03, 0.79, 0.22, 0.37, 0.80])\n",
        "x.extend([0.96, 0.26, 0.91, 0.55, 0.75, 0.55, 0.64, 0.39, 0.53, 0.45])\n",
        "x.extend([0.61, 0.14, 0.38, 0.12, 0.40, 0.74, 0.78, 0.98, 0.27, 0.60])\n",
        "x.extend([0.43, 0.67, 0.62, 0.32, 0.53, 0.54, 0.24, 0.29, 0.18, 0.08])\n",
        "x.extend([0.82, 0.94, 0.19, 0.98, 0.41, 1.00, 0.74, 0.92, 0.14, 0.43])\n",
        "x.extend([0.83, 0.88, 0.18, 0.21, 0.50, 0.13, 0.43, 0.69, 0.08, 0.12])\n",
        "x.extend([0.22, 0.50, 0.16, 0.11, 0.18, 0.89, 0.80, 0.42, 0.29, 0.87])\n",
        "x.extend([0.83, 0.79, 0.65, 0.28, 0.78, 0.49, 0.36, 0.86, 0.87, 0.64])\n",
        "x.extend([0.51, 0.07, 0.18, 0.94, 0.50, 0.22, 0.66, 0.91, 0.48, 0.24])\n",
        "\n",
        "#Para ordenar de forma ascendente usamos lista.sort()\n",
        "x1=x.sort()\n",
        "\n",
        "num=-1\n",
        "for i in x1:\n",
        "  num+=1\n",
        "min=x1[0]\n",
        "max=x1[num]\n",
        "print(\"Nuestra hipotesis nula será\")\n",
        "print(\"Ho: Una distribucion normal es una buena descripción  del patron\")\n",
        "print(\"con un nivel de significancia de 0.05\")\n",
        "#Usamos la formula de la distribución\n",
        "print(\"Para la distribución uniforme tenemos:\")\n",
        "print(\"          x-a               1\")\n",
        "print(\"P(X<x) = -----     P(X) = -----\")\n",
        "print(\"          b-a              b-a\")\n",
        "\n",
        "p=(1)/(max-min)\n",
        "\n",
        "\n"
      ],
      "metadata": {
        "id": "JuQxoJUAJkrD"
      },
      "execution_count": null,
      "outputs": []
    }
  ]
}