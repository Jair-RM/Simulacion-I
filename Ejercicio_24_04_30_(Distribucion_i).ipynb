{
  "nbformat": 4,
  "nbformat_minor": 0,
  "metadata": {
    "colab": {
      "provenance": [],
      "gpuType": "T4",
      "authorship_tag": "ABX9TyNSta7VSEMhEThiTk+RamDf",
      "include_colab_link": true
    },
    "kernelspec": {
      "name": "python3",
      "display_name": "Python 3"
    },
    "language_info": {
      "name": "python"
    },
    "accelerator": "GPU"
  },
  "cells": [
    {
      "cell_type": "markdown",
      "metadata": {
        "id": "view-in-github",
        "colab_type": "text"
      },
      "source": [
        "<a href=\"https://colab.research.google.com/github/Jair-RM/Simulacion-I/blob/main/Ejercicio_24_04_30_(Distribucion_i).ipynb\" target=\"_parent\"><img src=\"https://colab.research.google.com/assets/colab-badge.svg\" alt=\"Open In Colab\"/></a>"
      ]
    },
    {
      "cell_type": "code",
      "execution_count": null,
      "metadata": {
        "id": "wqxj_GaBQ39_"
      },
      "outputs": [],
      "source": [
        "import math\n",
        "import random\n",
        "import numpy as np\n",
        "import matplotlib.pyplot as plt"
      ]
    },
    {
      "cell_type": "code",
      "source": [
        "import math\n",
        "import random\n",
        "import numpy as np\n",
        "import matplotlib.pyplot as plt\n",
        "num=100\n",
        "p=0.3\n",
        "numeros=[]\n",
        "while num!=0:\n",
        "  u=random.random()\n",
        "  if 0<=u and u<0.15:\n",
        "    x=1\n",
        "  if 0.15<=u and u<0.20:\n",
        "    x=2\n",
        "  if 0.20<=u and u<0.55:\n",
        "    x=3\n",
        "  if 0.55<=u and u<=1:\n",
        "    x=4\n",
        "  numeros.append(x)\n",
        "  num-=1\n",
        "\n",
        "media=np.mean(numeros)\n",
        "varianza= np.var(numeros)\n",
        "\n",
        "plt.hist(numeros, bins=50)"
      ],
      "metadata": {
        "colab": {
          "base_uri": "https://localhost:8080/",
          "height": 628
        },
        "id": "14QRKSDuRjcg",
        "outputId": "15ece452-c96c-493f-d9cb-d6d80736ae75"
      },
      "execution_count": 17,
      "outputs": [
        {
          "output_type": "execute_result",
          "data": {
            "text/plain": [
              "(array([17.,  0.,  0.,  0.,  0.,  0.,  0.,  0.,  0.,  0.,  0.,  0.,  0.,\n",
              "         0.,  0.,  0.,  2.,  0.,  0.,  0.,  0.,  0.,  0.,  0.,  0.,  0.,\n",
              "         0.,  0.,  0.,  0.,  0.,  0.,  0., 34.,  0.,  0.,  0.,  0.,  0.,\n",
              "         0.,  0.,  0.,  0.,  0.,  0.,  0.,  0.,  0.,  0., 47.]),\n",
              " array([1.  , 1.06, 1.12, 1.18, 1.24, 1.3 , 1.36, 1.42, 1.48, 1.54, 1.6 ,\n",
              "        1.66, 1.72, 1.78, 1.84, 1.9 , 1.96, 2.02, 2.08, 2.14, 2.2 , 2.26,\n",
              "        2.32, 2.38, 2.44, 2.5 , 2.56, 2.62, 2.68, 2.74, 2.8 , 2.86, 2.92,\n",
              "        2.98, 3.04, 3.1 , 3.16, 3.22, 3.28, 3.34, 3.4 , 3.46, 3.52, 3.58,\n",
              "        3.64, 3.7 , 3.76, 3.82, 3.88, 3.94, 4.  ]),\n",
              " <BarContainer object of 50 artists>)"
            ]
          },
          "metadata": {},
          "execution_count": 17
        },
        {
          "output_type": "display_data",
          "data": {
            "text/plain": [
              "<Figure size 640x480 with 1 Axes>"
            ],
            "image/png": "[encoded data removed]"
          },
          "metadata": {}
        }
      ]
    },
    {
      "cell_type": "code",
      "source": [
        "plt.plot(numeros)"
      ],
      "metadata": {
        "id": "HLBvzTwaVD5B"
      },
      "execution_count": null,
      "outputs": []
    },
    {
      "cell_type": "code",
      "source": [
        "def cdf(numeros):\n",
        "  n=len(numeros)\n",
        "  x=np.sort(numeros)\n",
        "  y=np.arange(0, len(numeros))/len(numeros)\n",
        "  return x,y\n",
        "\n",
        "X,Y=cdf(numeros)\n",
        "plt.step(X,Y)\n",
        "plt.step(X,Y)\n",
        "plt.xlim(-5, 5)\n",
        "plt.show()"
      ],
      "metadata": {
        "id": "MgzXCbXXVGHf"
      },
      "execution_count": null,
      "outputs": []
    },
    {
      "cell_type": "code",
      "source": [
        "import matplotlib.pyplot as plt\n",
        "\n",
        "plt.step(x, y)\n",
        "# media\n",
        "plt.axvline(media, color=\"geen\")\n",
        "# mediana\n",
        "plt.axhline(.5, color=\"red\")\n"
      ],
      "metadata": {
        "id": "kRetn3EKVJpG"
      },
      "execution_count": null,
      "outputs": []
    }
  ]
}