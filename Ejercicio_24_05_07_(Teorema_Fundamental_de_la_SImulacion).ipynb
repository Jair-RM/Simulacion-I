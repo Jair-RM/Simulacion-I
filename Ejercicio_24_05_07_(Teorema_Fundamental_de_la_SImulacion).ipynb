{
  "nbformat": 4,
  "nbformat_minor": 0,
  "metadata": {
    "colab": {
      "private_outputs": true,
      "provenance": [],
      "authorship_tag": "ABX9TyPkHBwSyYNjk/ft+1U4Qf8V",
      "include_colab_link": true
    },
    "kernelspec": {
      "name": "python3",
      "display_name": "Python 3"
    },
    "language_info": {
      "name": "python"
    }
  },
  "cells": [
    {
      "cell_type": "markdown",
      "metadata": {
        "id": "view-in-github",
        "colab_type": "text"
      },
      "source": [
        "<a href=\"https://colab.research.google.com/github/Jair-RM/Simulacion-I/blob/main/Ejercicio_24_05_07_(Teorema_Fundamental_de_la_SImulacion).ipynb\" target=\"_parent\"><img src=\"https://colab.research.google.com/assets/colab-badge.svg\" alt=\"Open In Colab\"/></a>"
      ]
    },
    {
      "cell_type": "code",
      "execution_count": null,
      "metadata": {
        "id": "YNrdWpnrKJKo"
      },
      "outputs": [],
      "source": [
        "import math\n",
        "import random\n",
        "import numpy as np\n",
        "import matplotlib.pyplot as plt"
      ]
    },
    {
      "cell_type": "code",
      "source": [
        "x=1/4\n",
        "f=20*x*pow(1-x, 3)\n",
        "g=1\n",
        "\n",
        "print(f)\n",
        "\n",
        "num=100\n",
        "p=0.3\n",
        "numeros=[]\n",
        "while num!=0:\n",
        "  u=random.random()\n",
        " if 0<=u and u<0.15:\n",
        "    x=1\n",
        "  if 0.15<=u and u<0.20:\n",
        "    x=2\n",
        "  if 0.20<=u and u<0.55:\n",
        "    x=3\n",
        "  if 0.55<=u and u<=1:\n",
        "    x=4\n",
        "  numeros.append(x)\n",
        "  num-=1\n",
        "\n",
        "media=np.mean(numeros)\n",
        "varianza= np.var(numeros)\n",
        "\n",
        "plt.hist(numeros, bins=50)"
      ],
      "metadata": {
        "id": "bAz8_lOyM8LS"
      },
      "execution_count": null,
      "outputs": []
    },
    {
      "cell_type": "code",
      "source": [
        "plt.plot(numeros)"
      ],
      "metadata": {
        "id": "dsMItSrRND9U"
      },
      "execution_count": null,
      "outputs": []
    },
    {
      "cell_type": "code",
      "source": [
        "def cdf(numeros):\n",
        "  n=len(numeros)\n",
        "  x=np.sort(numeros)\n",
        "  y=np.arange(0, len(numeros))/len(numeros)\n",
        "  return x,y\n",
        "\n",
        "X,Y=cdf(numeros)\n",
        "plt.step(X,Y)\n",
        "plt.step(X,Y)\n",
        "plt.xlim(-5, 5)\n",
        "plt.show()"
      ],
      "metadata": {
        "id": "Im9wHkBqNE0S"
      },
      "execution_count": null,
      "outputs": []
    },
    {
      "cell_type": "code",
      "source": [
        "import matplotlib.pyplot as plt\n",
        "\n",
        "plt.step(x, y)\n",
        "# media\n",
        "plt.axvline(media, color=\"geen\")\n",
        "# mediana\n",
        "plt.axhline(.5, color=\"red\")"
      ],
      "metadata": {
        "id": "wNwiPkSMNHh2"
      },
      "execution_count": null,
      "outputs": []
    }
  ]
}