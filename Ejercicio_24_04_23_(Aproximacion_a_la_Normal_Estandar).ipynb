{
  "nbformat": 4,
  "nbformat_minor": 0,
  "metadata": {
    "colab": {
      "provenance": [],
      "authorship_tag": "ABX9TyNUIePjhGFQxkWwASmK5KCF",
      "include_colab_link": true
    },
    "kernelspec": {
      "name": "python3",
      "display_name": "Python 3"
    },
    "language_info": {
      "name": "python"
    }
  },
  "cells": [
    {
      "cell_type": "markdown",
      "metadata": {
        "id": "view-in-github",
        "colab_type": "text"
      },
      "source": [
        "<a href=\"https://colab.research.google.com/github/Jair-RM/Simulacion-I/blob/main/Ejercicio_24_04_23_(Aproximacion_a_la_Normal_Estandar).ipynb\" target=\"_parent\"><img src=\"https://colab.research.google.com/assets/colab-badge.svg\" alt=\"Open In Colab\"/></a>"
      ]
    },
    {
      "cell_type": "code",
      "execution_count": null,
      "metadata": {
        "id": "uxTH3K7zXrDQ"
      },
      "outputs": [],
      "source": [
        "import math\n",
        "import random\n",
        "import numpy as np\n",
        "import matplotlib.pyplot as plt\n"
      ]
    },
    {
      "cell_type": "code",
      "source": [
        "import math\n",
        "import random\n",
        "import numpy as np\n",
        "import matplotlib.pyplot as plt\n",
        "num=10000\n",
        "numeros=[]\n",
        "while num!=0:\n",
        "  u=random.random()\n",
        "  x=(pow(u, 0.135) - pow(1-u, 0.135))/(0.1975)\n",
        "  numeros.append(x)\n",
        "  num-=1\n",
        "\n",
        "media=np.mean(numeros)\n",
        "varianza= np.var(numeros)\n",
        "\n",
        "\n",
        "print(\"La media es \", media)\n",
        "\n",
        "print(\"La varianza es \", varianza)\n",
        "\n",
        "plt.hist(numeros, bins=50)\n",
        "\n"
      ],
      "metadata": {
        "colab": {
          "base_uri": "https://localhost:8080/",
          "height": 760
        },
        "id": "FvVx5Ib9X5D7",
        "outputId": "4da2a8e6-d9d7-42e1-bb7a-2604c6241663"
      },
      "execution_count": 26,
      "outputs": [
        {
          "output_type": "stream",
          "name": "stdout",
          "text": [
            "La media es  -0.014547616526311705\n",
            "La varianza es  1.0240374803276924\n"
          ]
        },
        {
          "output_type": "execute_result",
          "data": {
            "text/plain": [
              "(array([  2.,   6.,   1.,   9.,  16.,  14.,  26.,  43.,  49.,  80.,  96.,\n",
              "        105., 166., 192., 231., 286., 320., 373., 447., 495., 511., 525.,\n",
              "        596., 532., 542., 572., 538., 474., 479., 437., 335., 288., 253.,\n",
              "        236., 165., 149., 114.,  80.,  70.,  52.,  33.,  21.,  11.,  10.,\n",
              "          9.,   6.,   2.,   2.,   0.,   1.]),\n",
              " array([-3.4657702 , -3.32073823, -3.17570627, -3.03067431, -2.88564234,\n",
              "        -2.74061038, -2.59557842, -2.45054646, -2.30551449, -2.16048253,\n",
              "        -2.01545057, -1.8704186 , -1.72538664, -1.58035468, -1.43532271,\n",
              "        -1.29029075, -1.14525879, -1.00022683, -0.85519486, -0.7101629 ,\n",
              "        -0.56513094, -0.42009897, -0.27506701, -0.13003505,  0.01499691,\n",
              "         0.16002888,  0.30506084,  0.4500928 ,  0.59512477,  0.74015673,\n",
              "         0.88518869,  1.03022065,  1.17525262,  1.32028458,  1.46531654,\n",
              "         1.61034851,  1.75538047,  1.90041243,  2.04544439,  2.19047636,\n",
              "         2.33550832,  2.48054028,  2.62557225,  2.77060421,  2.91563617,\n",
              "         3.06066813,  3.2057001 ,  3.35073206,  3.49576402,  3.64079599,\n",
              "         3.78582795]),\n",
              " <BarContainer object of 50 artists>)"
            ]
          },
          "metadata": {},
          "execution_count": 26
        },
        {
          "output_type": "display_data",
          "data": {
            "text/plain": [
              "<Figure size 640x480 with 1 Axes>"
            ],
            "image/png": "[encoded data removed]"
          },
          "metadata": {}
        }
      ]
    },
    {
      "cell_type": "code",
      "source": [
        "\n",
        "plt.plot(numeros)\n",
        "\n"
      ],
      "metadata": {
        "id": "1wErn1AJX5cd",
        "colab": {
          "base_uri": "https://localhost:8080/",
          "height": 159
        },
        "outputId": "a6bcef94-e24c-4187-cf94-cee9d71b5a5f"
      },
      "execution_count": 18,
      "outputs": [
        {
          "output_type": "error",
          "ename": "NameError",
          "evalue": "name 'numeros' is not defined",
          "traceback": [
            "\u001b[0;31m---------------------------------------------------------------------------\u001b[0m",
            "\u001b[0;31mNameError\u001b[0m                                 Traceback (most recent call last)",
            "\u001b[0;32m<ipython-input-18-fc2da1024aff>\u001b[0m in \u001b[0;36m<cell line: 1>\u001b[0;34m()\u001b[0m\n\u001b[0;32m----> 1\u001b[0;31m \u001b[0mplt\u001b[0m\u001b[0;34m.\u001b[0m\u001b[0mplot\u001b[0m\u001b[0;34m(\u001b[0m\u001b[0mnumeros\u001b[0m\u001b[0;34m)\u001b[0m\u001b[0;34m\u001b[0m\u001b[0;34m\u001b[0m\u001b[0m\n\u001b[0m\u001b[1;32m      2\u001b[0m \u001b[0;34m\u001b[0m\u001b[0m\n",
            "\u001b[0;31mNameError\u001b[0m: name 'numeros' is not defined"
          ]
        }
      ]
    },
    {
      "cell_type": "code",
      "source": [
        "def cdf(numeros):\n",
        "  n=len(numeros)\n",
        "  x=np.sort(numeros)\n",
        "  y=np.arange(0, len(numeros))/len(numeros)\n",
        "  return x,y\n",
        "\n",
        "X,Y=cdf(numeros)\n",
        "plt.step(X,Y)\n",
        "plt.step(X,Y)\n",
        "plt.xlim(-5, 5)\n",
        "plt.show()"
      ],
      "metadata": {
        "id": "3z68aLz6X6Lb",
        "colab": {
          "base_uri": "https://localhost:8080/",
          "height": 211
        },
        "outputId": "544aeb9b-66aa-4030-ceb3-5ac36ede317e"
      },
      "execution_count": 17,
      "outputs": [
        {
          "output_type": "error",
          "ename": "NameError",
          "evalue": "name 'numeros' is not defined",
          "traceback": [
            "\u001b[0;31m---------------------------------------------------------------------------\u001b[0m",
            "\u001b[0;31mNameError\u001b[0m                                 Traceback (most recent call last)",
            "\u001b[0;32m<ipython-input-17-9afc0385396d>\u001b[0m in \u001b[0;36m<cell line: 7>\u001b[0;34m()\u001b[0m\n\u001b[1;32m      5\u001b[0m   \u001b[0;32mreturn\u001b[0m \u001b[0mx\u001b[0m\u001b[0;34m,\u001b[0m\u001b[0my\u001b[0m\u001b[0;34m\u001b[0m\u001b[0;34m\u001b[0m\u001b[0m\n\u001b[1;32m      6\u001b[0m \u001b[0;34m\u001b[0m\u001b[0m\n\u001b[0;32m----> 7\u001b[0;31m \u001b[0mX\u001b[0m\u001b[0;34m,\u001b[0m\u001b[0mY\u001b[0m\u001b[0;34m=\u001b[0m\u001b[0mcdf\u001b[0m\u001b[0;34m(\u001b[0m\u001b[0mnumeros\u001b[0m\u001b[0;34m)\u001b[0m\u001b[0;34m\u001b[0m\u001b[0;34m\u001b[0m\u001b[0m\n\u001b[0m\u001b[1;32m      8\u001b[0m \u001b[0mplt\u001b[0m\u001b[0;34m.\u001b[0m\u001b[0mstep\u001b[0m\u001b[0;34m(\u001b[0m\u001b[0mX\u001b[0m\u001b[0;34m,\u001b[0m\u001b[0mY\u001b[0m\u001b[0;34m)\u001b[0m\u001b[0;34m\u001b[0m\u001b[0;34m\u001b[0m\u001b[0m\n\u001b[1;32m      9\u001b[0m \u001b[0mplt\u001b[0m\u001b[0;34m.\u001b[0m\u001b[0mstep\u001b[0m\u001b[0;34m(\u001b[0m\u001b[0mX\u001b[0m\u001b[0;34m,\u001b[0m\u001b[0mY\u001b[0m\u001b[0;34m)\u001b[0m\u001b[0;34m\u001b[0m\u001b[0;34m\u001b[0m\u001b[0m\n",
            "\u001b[0;31mNameError\u001b[0m: name 'numeros' is not defined"
          ]
        }
      ]
    },
    {
      "cell_type": "code",
      "source": [
        "import matplotlib.pyplot as plt\n",
        "\n",
        "plt.step(x, y)\n",
        "# media\n",
        "plt.axvline(media, color=\"geen\")\n",
        "# mediana\n",
        "plt.axhline(.5, color=\"red\")\n"
      ],
      "metadata": {
        "colab": {
          "base_uri": "https://localhost:8080/",
          "height": 211
        },
        "id": "PEad6XZAvEb8",
        "outputId": "67a71249-74aa-40f9-b588-4bf07e680748"
      },
      "execution_count": 14,
      "outputs": [
        {
          "output_type": "error",
          "ename": "NameError",
          "evalue": "name 'numeros' is not defined",
          "traceback": [
            "\u001b[0;31m---------------------------------------------------------------------------\u001b[0m",
            "\u001b[0;31mNameError\u001b[0m                                 Traceback (most recent call last)",
            "\u001b[0;32m<ipython-input-14-d8053e9bfa62>\u001b[0m in \u001b[0;36m<cell line: 3>\u001b[0;34m()\u001b[0m\n\u001b[1;32m      1\u001b[0m \u001b[0;32mimport\u001b[0m \u001b[0mmatplotlib\u001b[0m\u001b[0;34m.\u001b[0m\u001b[0mpyplot\u001b[0m \u001b[0;32mas\u001b[0m \u001b[0mplt\u001b[0m\u001b[0;34m\u001b[0m\u001b[0;34m\u001b[0m\u001b[0m\n\u001b[1;32m      2\u001b[0m \u001b[0;34m\u001b[0m\u001b[0m\n\u001b[0;32m----> 3\u001b[0;31m \u001b[0mprint\u001b[0m\u001b[0;34m(\u001b[0m\u001b[0mnumeros\u001b[0m\u001b[0;34m)\u001b[0m\u001b[0;34m\u001b[0m\u001b[0;34m\u001b[0m\u001b[0m\n\u001b[0m\u001b[1;32m      4\u001b[0m \u001b[0mplt\u001b[0m\u001b[0;34m.\u001b[0m\u001b[0mstep\u001b[0m\u001b[0;34m(\u001b[0m\u001b[0mnumeros\u001b[0m \u001b[0;34m,\u001b[0m \u001b[0;36m4\u001b[0m\u001b[0;34m)\u001b[0m\u001b[0;34m\u001b[0m\u001b[0;34m\u001b[0m\u001b[0m\n\u001b[1;32m      5\u001b[0m \u001b[0;31m# media\u001b[0m\u001b[0;34m\u001b[0m\u001b[0;34m\u001b[0m\u001b[0m\n",
            "\u001b[0;31mNameError\u001b[0m: name 'numeros' is not defined"
          ]
        }
      ]
    }
  ]
}