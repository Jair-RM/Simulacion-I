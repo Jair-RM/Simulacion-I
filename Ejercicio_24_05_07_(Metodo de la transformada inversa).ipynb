{
  "nbformat": 4,
  "nbformat_minor": 0,
  "metadata": {
    "colab": {
      "private_outputs": true,
      "provenance": [],
      "authorship_tag": "ABX9TyNcHzXsC/U6+Ivr39Ju0cJ5",
      "include_colab_link": true
    },
    "kernelspec": {
      "name": "python3",
      "display_name": "Python 3"
    },
    "language_info": {
      "name": "python"
    }
  },
  "cells": [
    {
      "cell_type": "markdown",
      "metadata": {
        "id": "view-in-github",
        "colab_type": "text"
      },
      "source": [
        "<a href=\"https://colab.research.google.com/github/Jair-RM/Simulacion-I/blob/main/Ejercicio_24_05_07_(Metodo%20de%20la%20transformada%20inversa).ipynb\" target=\"_parent\"><img src=\"https://colab.research.google.com/assets/colab-badge.svg\" alt=\"Open In Colab\"/></a>"
      ]
    },
    {
      "cell_type": "code",
      "execution_count": null,
      "metadata": {
        "id": "YNrdWpnrKJKo"
      },
      "outputs": [],
      "source": [
        "import math\n",
        "import random\n",
        "import numpy as np\n",
        "import matplotlib.pyplot as plt"
      ]
    },
    {
      "cell_type": "code",
      "source": [
        "print(\"f=|x|    x∈[-1, 1]\")\n",
        "print(\"\")\n",
        "print(\"    { -x    si -1<x<0\")\n",
        "print(\" f= {\")\n",
        "print(\"    { x     si 0<x<1}\")\n",
        "\n",
        "num=10000\n",
        "numeros=[]\n",
        "print(\"F(x)=u\")\n",
        "while num!=0:\n",
        "  u=random.random()\n",
        "  if u<0.5:\n",
        "    x=pow(1 - 2*u , 0.5)\n",
        "  if u>=0.5:\n",
        "    x=pow(2*u - 1, 0.5)\n",
        "  numeros.append(x)\n",
        "  num-=1\n",
        "\n",
        "media=np.mean(numeros)\n",
        "varianza= np.var(numeros)\n",
        "\n",
        "plt.hist(numeros, bins=50)"
      ],
      "metadata": {
        "id": "bAz8_lOyM8LS"
      },
      "execution_count": null,
      "outputs": []
    },
    {
      "cell_type": "code",
      "source": [
        "plt.plot(numeros)"
      ],
      "metadata": {
        "id": "dsMItSrRND9U"
      },
      "execution_count": null,
      "outputs": []
    },
    {
      "cell_type": "code",
      "source": [
        "def cdf(numeros):\n",
        "  n=len(numeros)\n",
        "  x=np.sort(numeros)\n",
        "  y=np.arange(0, len(numeros))/len(numeros)\n",
        "  return x,y\n",
        "\n",
        "X,Y=cdf(numeros)\n",
        "plt.step(X,Y)\n",
        "plt.step(X,Y)\n",
        "plt.xlim(-0.5, 1.5)\n",
        "plt.show()"
      ],
      "metadata": {
        "id": "Im9wHkBqNE0S"
      },
      "execution_count": null,
      "outputs": []
    },
    {
      "cell_type": "code",
      "source": [
        "plt.step(X, Y)\n",
        "# media\n",
        "plt.axvline(media, color=\"Green\")\n",
        "# mediana\n",
        "plt.axhline(.5, color=\"red\")"
      ],
      "metadata": {
        "id": "wNwiPkSMNHh2"
      },
      "execution_count": null,
      "outputs": []
    }
  ]
}