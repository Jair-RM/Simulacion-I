{
  "nbformat": 4,
  "nbformat_minor": 0,
  "metadata": {
    "colab": {
      "provenance": [],
      "authorship_tag": "ABX9TyOn5bRutgDDGkpAc/dqmwcZ",
      "include_colab_link": true
    },
    "kernelspec": {
      "name": "python3",
      "display_name": "Python 3"
    },
    "language_info": {
      "name": "python"
    }
  },
  "cells": [
    {
      "cell_type": "markdown",
      "metadata": {
        "id": "view-in-github",
        "colab_type": "text"
      },
      "source": [
        "<a href=\"https://colab.research.google.com/github/Jair-RM/Simulacion-I/blob/main/Ejercicio_24_03_20_(Lanzamiento_de_dado).ipynb\" target=\"_parent\"><img src=\"https://colab.research.google.com/assets/colab-badge.svg\" alt=\"Open In Colab\"/></a>"
      ]
    },
    {
      "cell_type": "code",
      "execution_count": 19,
      "metadata": {
        "colab": {
          "base_uri": "https://localhost:8080/",
          "height": 554
        },
        "id": "PszwkEX95y_g",
        "outputId": "af2996d5-ba5c-425f-88ee-e8bedb44d2b5"
      },
      "outputs": [
        {
          "output_type": "stream",
          "name": "stdout",
          "text": [
            "Ingrese el numero de lanzamientos de dado que desea realizar: 45\n",
            "prob= [0.481, 0.164, 0.477, 0.357, 0.12, 0.131, 0.918, 0.939, 0.73, 0.696, 0.71, 0.302, 0.772, 0.613, 0.512, 0.771, 0.668, 0.517, 0.35, 0.543, 0.398, 0.068, 0.958, 0.122, 0.641, 0.64, 0.078, 0.972, 0.377, 0.738, 0.923, 0.594, 0.956, 0.164, 0.74, 0.378, 0.651, 0.344, 0.134, 0.35, 0.345, 0.11, 0.122, 0.526, 0.452]\n",
            "monedas= [3, 1, 3, 3, 1, 1, 6, 6, 5, 5, 5, 2, 5, 4, 4, 5, 5, 4, 3, 4, 3, 1, 6, 1, 4, 4, 1, 6, 3, 5, 6, 4, 6, 1, 5, 3, 4, 3, 1, 3, 3, 1, 1, 4, 3]\n",
            "Hay  10  1ˋs,  1  2ˋs,  11  3ˋs,  9  4ˋs,  8  5ˋs,  6  6ˋs, \n",
            "Hay una probabilidad de  24.44 % de que salga un 3\n",
            "prob 3s = [1.0, 0.5, 0.6666666666666666, 0.75, 0.6, 0.5, 0.42857142857142855, 0.375, 0.3333333333333333, 0.3, 0.2727272727272727, 0.25, 0.23076923076923078, 0.21428571428571427, 0.2, 0.1875, 0.17647058823529413, 0.16666666666666666, 0.21052631578947367, 0.2, 0.23809523809523808, 0.22727272727272727, 0.21739130434782608, 0.20833333333333334, 0.2, 0.19230769230769232, 0.18518518518518517, 0.17857142857142858, 0.20689655172413793, 0.2, 0.1935483870967742, 0.1875, 0.18181818181818182, 0.17647058823529413, 0.17142857142857143, 0.19444444444444445, 0.1891891891891892, 0.21052631578947367, 0.20512820512820512, 0.225, 0.24390243902439024, 0.23809523809523808, 0.23255813953488372, 0.22727272727272727, 0.24444444444444444]\n"
          ]
        },
        {
          "output_type": "display_data",
          "data": {
            "text/plain": [
              "<Figure size 640x480 with 1 Axes>"
            ],
            "image/png": "[encoded data removed]"
          },
          "metadata": {}
        }
      ],
      "source": [
        "import random as rnd\n",
        "import math\n",
        "import matplotlib\n",
        "import matplotlib.pyplot as plt\n",
        "import numpy as np\n",
        "from math import sqrt\n",
        "z=int(input(\"Ingrese el numero de lanzamientos de dado que desea realizar: \"))\n",
        "q1=1/6\n",
        "q2=2/6\n",
        "q3=3/6\n",
        "q4=4/6\n",
        "q5=5/6\n",
        "q6=6/6\n",
        "dado=[]\n",
        "probabilidad=[]\n",
        "\n",
        "\n",
        "while z>0:\n",
        "  x=rnd.random()\n",
        "  x=round(x,3)\n",
        "  probabilidad.append(x)\n",
        "  z-=1\n",
        "\n",
        "for i in probabilidad:\n",
        "  if i>=0 and i<=1:\n",
        "    m=1\n",
        "  if i>q1 and i<=q2:\n",
        "    m=2\n",
        "  if i>q2 and i<=q3:\n",
        "    m=3\n",
        "  if i>q3 and i<=q4:\n",
        "    m=4\n",
        "  if i>q4 and i<=q5:\n",
        "    m=5\n",
        "  if i>q5 and i<=q6:\n",
        "    m=6\n",
        "\n",
        "  dado.append(m)\n",
        "\n",
        "\n",
        "x1=0\n",
        "x2=0\n",
        "x3=0\n",
        "x4=0\n",
        "x5=0\n",
        "x6=0\n",
        "\n",
        "for i in dado:\n",
        "  if i==1:\n",
        "    x1+=1\n",
        "  if i==2:\n",
        "    x2+=1\n",
        "  if i==3:\n",
        "    x3+=1\n",
        "  if i==4:\n",
        "    x4+=1\n",
        "  if i==5:\n",
        "    x5+=1\n",
        "  if i==6:\n",
        "    x6+=1\n",
        "print(\"prob=\", probabilidad)\n",
        "print(\"monedas=\", dado)\n",
        "\n",
        "print(\"Hay \", x1, \" 1ˋs, \", x2, \" 2ˋs, \", x3, \" 3ˋs, \", x4, \" 4ˋs, \", x5, \" 5ˋs, \", x6, \" 6ˋs, \")\n",
        "\n",
        "n=len(dado)\n",
        "a=round((x3/n)*100,2)\n",
        "\n",
        "print(\"Hay una probabilidad de \", a, \"% de que salga un 3\")\n",
        "\n",
        "\n",
        "n=1\n",
        "x3=0\n",
        "nums=[]\n",
        "for i in dado:\n",
        "  if i==3:\n",
        "    x3+=1\n",
        "  porcentaje=x3/n\n",
        "  nums.append(porcentaje)\n",
        "  n+=1\n",
        "\n",
        "print(\"prob 3s =\", nums)\n",
        "\n",
        "j=len(nums)\n",
        "n2=[]\n",
        "num=0\n",
        "for i in nums:\n",
        "  num+=1\n",
        "  n2.append(num)\n",
        "\n",
        "fig, ax = plt.subplots()\n",
        "#        eje x           eje y\n",
        "ax.plot(n2, nums)\n",
        "plt.show()"
      ]
    },
    {
      "cell_type": "code",
      "source": [
        "\n",
        "def volados (n):\n",
        "  prob=[]\n",
        "  sol=0\n",
        "\n",
        "  for i in range(n):\n",
        "    if volados()==\"sol\":\n",
        "      sol+=1\n",
        "\n"
      ],
      "metadata": {
        "id": "20BKtEbV-qYr"
      },
      "execution_count": null,
      "outputs": []
    }
  ]
}