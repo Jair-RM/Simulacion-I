{
  "nbformat": 4,
  "nbformat_minor": 0,
  "metadata": {
    "colab": {
      "private_outputs": true,
      "provenance": [],
      "authorship_tag": "ABX9TyMnIAQsYLzEOuYtqHnyCLyP",
      "include_colab_link": true
    },
    "kernelspec": {
      "name": "python3",
      "display_name": "Python 3"
    },
    "language_info": {
      "name": "python"
    }
  },
  "cells": [
    {
      "cell_type": "markdown",
      "metadata": {
        "id": "view-in-github",
        "colab_type": "text"
      },
      "source": [
        "<a href=\"https://colab.research.google.com/github/Jair-RM/Simulacion-I/blob/main/Ejercicio_24_05_08_(Metodo_12_Uniformes).ipynb\" target=\"_parent\"><img src=\"https://colab.research.google.com/assets/colab-badge.svg\" alt=\"Open In Colab\"/></a>"
      ]
    },
    {
      "cell_type": "code",
      "execution_count": null,
      "metadata": {
        "id": "Xh2MexwgTy9f"
      },
      "outputs": [],
      "source": [
        "import math\n",
        "import random\n",
        "import numpy as np\n",
        "import matplotlib.pyplot as plt"
      ]
    },
    {
      "cell_type": "code",
      "source": [
        "num=12\n",
        "n=0\n",
        "numeros=[]\n",
        "sumu=0\n",
        "while num!=0:\n",
        "  u=random.random()\n",
        "  sumu+=u\n",
        "  numeros.append(u)\n",
        "  num-=1\n",
        "  n+=1\n",
        "x=(sumu - (n/2))/(pow(n/12, 0.5))\n",
        "y=sumu - 6\n",
        "print(x)\n",
        "print(y)\n",
        "\n",
        "media=np.mean(numeros)\n",
        "varianza= np.var(numeros)\n",
        "\n",
        "plt.hist(numeros, bins=50)"
      ],
      "metadata": {
        "id": "tpFC_Q_IVaQl"
      },
      "execution_count": null,
      "outputs": []
    },
    {
      "cell_type": "code",
      "source": [
        "plt.plot(numeros)"
      ],
      "metadata": {
        "id": "Fb6cMdgcVgEI"
      },
      "execution_count": null,
      "outputs": []
    },
    {
      "cell_type": "code",
      "source": [
        "def cdf(numeros):\n",
        "  n=len(numeros)\n",
        "  x=np.sort(numeros)\n",
        "  y=np.arange(0, len(numeros))/len(numeros)\n",
        "  return x,y\n",
        "\n",
        "X,Y=cdf(numeros)\n",
        "plt.step(X,Y)\n",
        "plt.step(X,Y)\n",
        "plt.xlim(-5, 5)\n",
        "plt.show()"
      ],
      "metadata": {
        "id": "oqkB2KL7Vg6z"
      },
      "execution_count": null,
      "outputs": []
    },
    {
      "cell_type": "code",
      "source": [
        "plt.step(x, y)\n",
        "# media\n",
        "plt.axvline(media, color=\"geen\")\n",
        "# mediana\n",
        "plt.axhline(.5, color=\"red\")\n"
      ],
      "metadata": {
        "id": "w5oJZ6IpVjmk"
      },
      "execution_count": null,
      "outputs": []
    }
  ]
}