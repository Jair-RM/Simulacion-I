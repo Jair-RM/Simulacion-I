{
  "nbformat": 4,
  "nbformat_minor": 0,
  "metadata": {
    "colab": {
      "provenance": [],
      "authorship_tag": "ABX9TyMwwtRdsl0E8pkT/0WiUG+h",
      "include_colab_link": true
    },
    "kernelspec": {
      "name": "python3",
      "display_name": "Python 3"
    },
    "language_info": {
      "name": "python"
    }
  },
  "cells": [
    {
      "cell_type": "markdown",
      "metadata": {
        "id": "view-in-github",
        "colab_type": "text"
      },
      "source": [
        "<a href=\"https://colab.research.google.com/github/Jair-RM/Simulacion-I/blob/main/Ejercicio_24_03_05.ipynb\" target=\"_parent\"><img src=\"https://colab.research.google.com/assets/colab-badge.svg\" alt=\"Open In Colab\"/></a>"
      ]
    },
    {
      "cell_type": "code",
      "execution_count": null,
      "metadata": {
        "colab": {
          "base_uri": "https://localhost:8080/"
        },
        "id": "jFXSzKZv8WUQ",
        "outputId": "a31a29b1-61ba-4144-c6d0-556cc2834054"
      },
      "outputs": [
        {
          "output_type": "stream",
          "name": "stdout",
          "text": [
            "Metodo de congruencia:\n",
            "Metodo de congruencia:\n",
            "Para el ejercicio a)\n",
            "se requieren 31 iteraciones para que se repitan los numeros\n",
            "Los valores enteros que surgen son: \n",
            "\t [21, 22, 12, 19, 11, 29, 4, 6, 17, 0, 15, 20, 1, 5, 27, 24, 23, 2, 26, 3, 16, 10, 8, 28, 14, 30, 25, 13, 9, 18, 21, 22, 12, 19, 11, 29, 4, 6, 17, 0, 15]\n",
            "Para el ejercicio b)\n",
            "se requieren 43 iteraciones para que se repitan los numeros\n",
            "Los valores enteros que surgen son: \n",
            "\t [7, 100, 29, 2, 35, 80, 25, 78, 127, 124, 85, 90, 27, 104, 81, 38, 119, 20, 13, 50, 19, 0, 9, 126, 111, 44, 69, 10, 11, 24, 65, 86, 103, 68, 125, 98, 3, 48, 121, 46, 95]\n",
            "Para el ejercicio c)\n",
            "se requieren 31 iteraciones para que se repitan los numeros\n",
            "Los valores enteros que surgen son: \n",
            "\t [23, 19, 13, 4, 6, 9, 29, 28, 11, 1, 17, 10, 15, 7, 26, 8, 12, 18, 27, 25, 22, 2, 3, 20, 30, 14, 21, 16, 24, 5, 23, 19, 13, 4, 6, 9, 29, 28, 11, 1, 17]\n",
            "Para el ejercicio d)\n",
            "se requieren 43 iteraciones para que se repitan los numeros\n",
            "Los valores enteros que surgen son: \n",
            "\t [17, 138, 3, 124, 245, 110, 231, 96, 217, 82, 203, 68, 189, 54, 175, 40, 161, 26, 147, 12, 133, 254, 119, 240, 105, 226, 91, 212, 77, 198, 63, 184, 49, 170, 35, 156, 21, 142, 7, 128, 249]\n",
            "Para el ejercicio e)\n",
            "se requieren 44 iteraciones para que se repitan los numeros\n",
            "Los valores enteros que surgen son: \n",
            "\t [21, 43, 2, 47, 57, 46, 29, 19, 2, 7, 49, 46, 37, 59, 2, 31, 41, 46, 45, 35, 2, 55, 33, 46, 53, 11, 2, 15, 25, 46, 61, 51, 2, 39, 17, 46, 5, 27, 2, 63, 9, 46]\n",
            "Los valores aleatorios son: \n",
            "\t []\n"
          ]
        }
      ],
      "source": [
        "# Ejercicio 1 Usar el metodo de congruencia con:\n",
        "#        xn+1=(21xn + 15)mod(31)    x0=21\n",
        "print(\"Metodo de congruencia:\")\n",
        "print(\"Metodo de congruencia:\")\n",
        "#Xn+1=aXn+c  (mod % m), 0<x0<m:\n",
        "p=4\n",
        "while p>=0:\n",
        "  if p!=0:\n",
        "    if p==4:\n",
        "      k=\"a)\"\n",
        "      a=21\n",
        "      c=15\n",
        "      m=31\n",
        "      x0=21\n",
        "    if p==3:\n",
        "      k=\"b)\"\n",
        "      a=13\n",
        "      c=9\n",
        "      m=128\n",
        "      x0=7\n",
        "    if p==2:\n",
        "      k=\"c)\"\n",
        "      a=17\n",
        "      c=0\n",
        "      m=31\n",
        "      x0=23\n",
        "    if p==1:\n",
        "      k=\"d)\"\n",
        "      a=1\n",
        "      c=121\n",
        "      m=256\n",
        "      x0=17\n",
        "    x=[x0]\n",
        "    if m<=x0:\n",
        "      print(\"No se puede hacer, el modulo debe ser menor\")\n",
        "    if m>x0:\n",
        "     f=100\n",
        "     n=0\n",
        "     j=2\n",
        "     xn=[]\n",
        "     g=[]\n",
        "    while f>0:\n",
        "     x1=(a*x0+c)%m\n",
        "     x0=x1\n",
        "     x.append(x0)\n",
        "     f-=1\n",
        "    for i in x:\n",
        "      for h in x:\n",
        "       if h!=i:\n",
        "          j+=1\n",
        "       if i==h:\n",
        "          g.append(j)\n",
        "    print(\"Para el ejercicio\", k)\n",
        "    print(\"se requieren\", g[1], \"iteraciones para que se repitan los numeros\")\n",
        "    print(\"Los valores enteros que surgen son: \\n\\t\", x)\n",
        "  if p==0:\n",
        "    k=\"e)\"\n",
        "    a=15\n",
        "    x0=21\n",
        "    x1=43\n",
        "    c=21\n",
        "    m=64\n",
        "    x=[x0, x1]\n",
        "    if m<=x0:\n",
        "      print(\"No se puede hacer, el modulo debe ser menor\")\n",
        "    if m>x0:\n",
        "     f=100\n",
        "     n=0\n",
        "     j=2\n",
        "     xn=[]\n",
        "     g=[]\n",
        "    while f>0:\n",
        "     x2=(a*x0+c*x1)%m\n",
        "     x0=x1\n",
        "     x1=x2\n",
        "     x.append(x1)\n",
        "     f-=1\n",
        "   #Contar desde que iteracion se empieza a repetir\n",
        "    for i in x:\n",
        "      for h in x:\n",
        "       if h!=i:\n",
        "          j+=1\n",
        "       if i==h:\n",
        "          g.append(j)\n",
        "    print(\"Para el ejercicio\", k)\n",
        "    print(\"se requieren\", g[1], \"iteraciones para que se repitan los numeros\")\n",
        "    print(\"Los valores enteros que surgen son: \\n\\t\", x)\n",
        "  p-=1\n",
        "\n",
        "\n"
      ]
    },
    {
      "cell_type": "code",
      "source": [
        "#Ejerccio 2. Escriba los pasos a seguir para realizar una prueba de bobdad de\n",
        "#            ajuste xi cudrada para comprobar que una muesra de numeroos aleatorios\n",
        "#            sigue una distribuion Uniforme\n",
        "\n",
        "print(\"Estadistico de prueba\")\n",
        "print(\"            (O-E)^2  \")\n",
        "print(\"      Sum = --------\")\n",
        "print(\"       k       E    \")\n",
        "\n",
        "print(\"   O = Valores observados (datos)\")\n",
        "print(\"   E = Valores esperados (de la teoria)\")\n",
        "print(\"   K = Numero de celdas por categoia diferentes\")\n",
        "print(\"         T          numero total de datos\")\n",
        "print(\"   E = -----\")\n",
        "print(\"         n          numero de clases\")\n",
        "print(\"Numero de grados de libertad gl= n-1\")\n",
        "print(\"Porcentaje de exactitud 0.00 - 1.00\")\n"
      ],
      "metadata": {
        "colab": {
          "base_uri": "https://localhost:8080/"
        },
        "id": "oiO7721UCKbB",
        "outputId": "2f0b89c4-c316-4a51-8210-895ccc5eada5"
      },
      "execution_count": 11,
      "outputs": [
        {
          "output_type": "stream",
          "name": "stdout",
          "text": [
            "Estadistico de prueba\n",
            "            (O-E)^2  \n",
            "      Sum = --------\n",
            "       k       E    \n",
            "   O = Valores observados (datos)\n",
            "   E = Valores esperados (de la teoria)\n",
            "   K = Numero de celdas por categoia diferentes\n",
            "         T          numero total de datos\n",
            "   E = -----\n",
            "         n          numero de clases\n",
            "Numero de grados de libertad gl= n-1\n",
            "Porcentaje de exactitud 0.00 - 1.00\n"
          ]
        }
      ]
    },
    {
      "cell_type": "code",
      "source": [
        "#Ejercicio 3. Realice una prueba de bondad de ajuste con un nivel de acepacion\n",
        "#             de 95%\n",
        "import math\n",
        "x=[0.8797, 0.9848, 0.4557, 0.9170, 0.8376]\n",
        "x.extend([0.3884, 0.3469, 0.1592, 0.2204, 0.6235])\n",
        "x.extend([0.6289, 0.7977, 0.8536, 0.5991, 0.3681])\n",
        "x.extend([0.8750, 0.5844, 0.8846, 0.5461, 0.2088])\n",
        "x.extend([0.5999, 0.8147, 0.3410, 0.5739, 0.1525])\n",
        "x.extend([0.8589, 0.6431, 0.1492, 0.3254, 0.2006])\n",
        "x.extend([0.9996, 0.7387, 0.8681, 0.0856, 0.4720])\n",
        "x.extend([0.2415, 0.5613, 0.5291, 0.2258, 0.4272])\n",
        "x.extend([0.3808, 0.0318, 0.3188, 0.4603, 0.6360])\n",
        "x.extend([0.9606, 0.7401, 0.5992, 0.5027, 0.0954])\n",
        "\n",
        "print(\"   Ho: La lista SI tiene una distribución uniforme. \")\n",
        "print(\"   Ha: La lista NO tiene una distribución uniforme. \")\n",
        "\n",
        "valcrit=9.49\n",
        "print(\" Nuestro valor critico es:\", valcrit)\n",
        "\n",
        "k=0\n",
        "x00=[]\n",
        "k0=0\n",
        "x02=[]\n",
        "k2=0\n",
        "x04=[]\n",
        "k4=0\n",
        "x06=[]\n",
        "k6=0\n",
        "x08=[]\n",
        "k8=0\n",
        "for i in x:\n",
        "  if i<0.20 and i>0.00:\n",
        "    x00.append(i)\n",
        "    k0+=1\n",
        "  if i<0.40 and i>=0.20:\n",
        "    x02.append(i)\n",
        "    k2+=1\n",
        "  if i<0.60 and i>=0.40:\n",
        "    x04.append(i)\n",
        "    k4+=1\n",
        "  if i<0.80 and i>=0.60:\n",
        "    x06.append(i)\n",
        "    k6+=1\n",
        "  if i<1.00 and i>=0.80:\n",
        "    x08.append(i)\n",
        "    k8+=1\n",
        "  k+=1\n",
        "e=k/5\n",
        "sum=(pow(k0-e, 2) + pow(k2-e, 2) + pow(k4-e, 2) + pow(k6-e, 2) + pow(k8-e, 2))/e\n",
        "print(\"Nuestro valor * es: \", sum)\n",
        "if sum<valcrit:\n",
        "  print(\"No se rechaza Ho: SI tiene distribucion uniforme\")\n",
        "if sum>valcrit:\n",
        "  print(\"Se rechaza Ho: NO tiene distribucion uniforme\")\n",
        "\n"
      ],
      "metadata": {
        "id": "csMFIKrtDY9L",
        "colab": {
          "base_uri": "https://localhost:8080/"
        },
        "outputId": "4e7d9455-a3b6-4f1e-f038-7cd66cee13d5"
      },
      "execution_count": 12,
      "outputs": [
        {
          "output_type": "stream",
          "name": "stdout",
          "text": [
            "   Ho: La lista NO tiene una distribución uniforme. \n",
            "   Ha: La lista SI tiene una distribución uniforme. \n",
            " Nuestro valor critico es: 9.49\n",
            "Nuestro valor * es:  4.2\n",
            "No se rechaza Ho: NO tiene distribucion uniforme\n"
          ]
        }
      ]
    },
    {
      "cell_type": "code",
      "source": [
        "#Ejerccio 4. Determine si la siguiente lista de 100 numeros de 2 diigitos tiene\n",
        "#            una distribucon uniforme con un nivel de aceptacin de 90%\n",
        "x=[0.78, 0.98, 0.24, 0.73, 0.43, 0.16, 0.78, 0.47, 0.18, 0.55]\n",
        "x.extend([0.04, 0.29, 0.68, 0.77, 0.16, 0.03, 0.79, 0.22, 0.37, 0.80])\n",
        "x.extend([0.96, 0.26, 0.91, 0.55, 0.75, 0.55, 0.64, 0.39, 0.53, 0.45])\n",
        "x.extend([0.61, 0.14, 0.38, 0.12, 0.40, 0.74, 0.78, 0.98, 0.27, 0.60])\n",
        "x.extend([0.43, 0.67, 0.62, 0.32, 0.53, 0.54, 0.24, 0.29, 0.18, 0.08])\n",
        "x.extend([0.82, 0.94, 0.19, 0.98, 0.41, 1.00, 0.74, 0.92, 0.14, 0.43])\n",
        "x.extend([0.83, 0.88, 0.18, 0.21, 0.50, 0.13, 0.43, 0.69, 0.08, 0.12])\n",
        "x.extend([0.22, 0.50, 0.16, 0.11, 0.18, 0.89, 0.80, 0.42, 0.29, 0.87])\n",
        "x.extend([0.83, 0.79, 0.65, 0.28, 0.78, 0.49, 0.36, 0.86, 0.87, 0.64])\n",
        "x.extend([0.51, 0.07, 0.18, 0.94, 0.50, 0.22, 0.66, 0.91, 0.48, 0.24])\n",
        "\n",
        "print(\"   Ho: La lista NO tiene una distribución uniforme. \")\n",
        "print(\"   Ha: La lista SI tiene una distribución uniforme. \")\n",
        "\n",
        "print(\" Nuestro valor critico es: 118.5\")\n",
        "gl=118.5\n",
        "k=0\n",
        "x00=[]\n",
        "k0=0\n",
        "x02=[]\n",
        "k2=0\n",
        "x04=[]\n",
        "k4=0\n",
        "x06=[]\n",
        "k6=0\n",
        "x08=[]\n",
        "k8=0\n",
        "for i in x:\n",
        "  if i<=0.20 and i>0.00:\n",
        "    x00.append(i)\n",
        "    k0+=1\n",
        "  if i<=0.40 and i>0.20:\n",
        "    x02.append(i)\n",
        "    k2+=1\n",
        "  if i<=0.60 and i>0.40:\n",
        "    x04.append(i)\n",
        "    k4+=1\n",
        "  if i<=0.80 and i>0.60:\n",
        "    x06.append(i)\n",
        "    k6+=1\n",
        "  if i<=1.00 and i>0.80:\n",
        "    x08.append(i)\n",
        "    k8+=1\n",
        "  k+=1\n",
        "print(k0)\n",
        "print(k2)\n",
        "print(k4)\n",
        "print(k6)\n",
        "print(k8)\n",
        "print(k)\n",
        "sum=(pow(k0-k, 2) + pow(k2-k, 2) + pow(k4-k, 2) + pow(k6-k, 2) + pow(k8-k, 2))/k\n",
        "print(\"NUestro valor * es: \", sum)\n",
        "if sum<gl:\n",
        "  print(\"No se rechaza Ho: NO tiene distribucion uniforme\")\n",
        "if sum>gl:\n",
        "  print(\"Se rechaza Ho: SI tiene distribucion uniforme\")\n"
      ],
      "metadata": {
        "id": "6mHmv42jIQOl",
        "colab": {
          "base_uri": "https://localhost:8080/"
        },
        "outputId": "053e1434-cc65-4cbf-8ba5-eb405c4cb07c"
      },
      "execution_count": 15,
      "outputs": [
        {
          "output_type": "stream",
          "name": "stdout",
          "text": [
            "   Ho: La lista NO tiene una distribución uniforme. \n",
            "   Ha: La lista SI tiene una distribución uniforme. \n",
            " Nuestro valor critico es: 118.5\n",
            "20\n",
            "19\n",
            "21\n",
            "22\n",
            "18\n",
            "100\n",
            "NUestro valor * es:  320.1\n",
            "Se rechaza Ho: SI tiene distribucion uniforme\n"
          ]
        }
      ]
    },
    {
      "cell_type": "code",
      "source": [],
      "metadata": {
        "id": "UesCT5KqBlgH"
      },
      "execution_count": null,
      "outputs": []
    },
    {
      "cell_type": "markdown",
      "source": [],
      "metadata": {
        "id": "JvrzhtMWAZRc"
      }
    },
    {
      "cell_type": "code",
      "source": [
        "#Ejercicio 5. Escriba en una Notebook de Jupyter un programa en Python que\n",
        "#             implemente la Prueba de Bondad de ajuste trabajada en este\n",
        "#             ejercicio"
      ],
      "metadata": {
        "id": "FW4dLsCyIe9W"
      },
      "execution_count": null,
      "outputs": []
    },
    {
      "cell_type": "code",
      "source": [
        "#Ejercicio 6. Obtenga una muestra de numeros aleatorios usando el generador\n",
        "#             congruencial de ciclo de vida maxima del Ejercicio 1) y aplique\n",
        "#             a tal muestra una prueba Xi cuadrada paradecidir si la muestra\n",
        "#             sigue una distribución uniforme o no. Comente el resultado."
      ],
      "metadata": {
        "id": "9BHoOKXTI08w"
      },
      "execution_count": null,
      "outputs": []
    }
  ]
}