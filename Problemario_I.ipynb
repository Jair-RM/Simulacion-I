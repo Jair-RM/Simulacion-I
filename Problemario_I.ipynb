{
  "nbformat": 4,
  "nbformat_minor": 0,
  "metadata": {
    "colab": {
      "provenance": [],
      "authorship_tag": "ABX9TyPwx22VPYQ03bQe/vOD/CEv",
      "include_colab_link": true
    },
    "kernelspec": {
      "name": "python3",
      "display_name": "Python 3"
    },
    "language_info": {
      "name": "python"
    }
  },
  "cells": [
    {
      "cell_type": "markdown",
      "metadata": {
        "id": "view-in-github",
        "colab_type": "text"
      },
      "source": [
        "<a href=\"https://colab.research.google.com/github/Jair-RM/Simulacion-I/blob/main/Problemario_I.ipynb\" target=\"_parent\"><img src=\"https://colab.research.google.com/assets/colab-badge.svg\" alt=\"Open In Colab\"/></a>"
      ]
    },
    {
      "cell_type": "code",
      "execution_count": null,
      "metadata": {
        "id": "Z2xhwcdvxHE-"
      },
      "outputs": [],
      "source": [
        "# 1. Para el siguiente conjunto de numeros:\n",
        "#   5, 8, 4, 7, 8, 2, 4, 4, 3, 5, 6, 7, 8, 4, 8, 7, 3, 4, 5, 6, 7, 2, 3, 4, 5\n",
        "#   3, 5, 6, 1, 2, 3, 2, 5, 6, 7, 8, 7, 1, 5, 6, 7, 3, 4, 2, 0, 1, 0, 0, 2, 3\n",
        "# Realice la prueba de bondad de ajuste para determinar si siguen una\n",
        "# distribucion uniforme entre 0 y 8, a un nivel de confianza del 95%"
      ]
    },
    {
      "cell_type": "code",
      "source": [
        "# 2. Realice la pueba de Kolmogorov - Smirnov a los nueros de la siguiente\n",
        "# lista y demuestre a un nivel de 1-α = 95% que son uniformes (0, 1).\n",
        "#   0.778,  0.987,  0.951,  0.234,  0.395,  0.234,  0.783,  0,405\n",
        "#   0.899,  0.277,  0.341,  0.456,  0.482,  0.789,  0.456,  0.479\n",
        "#   0.895,  0.907,  0.002,  0.345,  0.404,  0.982,  0.123,  0.345\n",
        "#   0.678,  0.845,  0.963,  0.298,  0.622,  0.045\n",
        "\n"
      ],
      "metadata": {
        "id": "gq5d_3xcyqZK"
      },
      "execution_count": null,
      "outputs": []
    },
    {
      "cell_type": "code",
      "source": [
        "# 3. Los telares del tipo picañol detienen su producción de tela automáticamente\n",
        "# al ocurrir unarotura, hasta que un operador va a repararla. El tiempo entre\n",
        "# paros de las máquinas ha arrojado los siguientes resultados medidos en minutos\n",
        "#    1.88, 3.53, 1.42, 0.39, 0.80, 0.54, 0.53, 1.28, 0.34, 5.50\n",
        "#    1.90, 1.80, 0.82, 0.01, 4.91, 0.15, 0.79, 2.16, 0.10, 0.35\n",
        "#    0.02, 0.21, 0.05, 1,10, 0.36, 2.81, 0.80, 0.04, 0.24, 0.90\n",
        "#    1.50, 0.26, 1.49, 0.26, 1.03, 0.53, 0.63, 0.66, 0.45, 1.73\n",
        "#    2.62, 0.36, 2.03, 0.17, 0.38, 2.67, 2.03, 1.00, 4.29, 0.48\n",
        "# Determine con un nivel de aceptacón 1-α = 90% la distribucón de probabilida\n",
        "# de tiempo entre paros."
      ],
      "metadata": {
        "id": "zplKodOJ0SJD"
      },
      "execution_count": null,
      "outputs": []
    },
    {
      "cell_type": "code",
      "source": [
        "# 4. Los datos en meses del tiempo entre fallas de un automóvil son:\n",
        "#   36.33, 48.00, 32.02, 36.78, 38.52, 40.33, 35.78, 45.39, 35.99, 36.68\n",
        "#   41.52, 36.54, 36.60, 40.56, 40.42, 33.92, 39.82, 34.48, 34.35, 37.73\n",
        "#   35.89, 31.75, 41.91, 45.70, 31.50, 44.58, 34.04, 32.03, 48.53"
      ],
      "metadata": {
        "id": "J0V0XYy32eRS"
      },
      "execution_count": null,
      "outputs": []
    },
    {
      "cell_type": "code",
      "source": [
        "# 1. Determine el ciclo de vida de los siguientes generadores congruenciales:\n",
        "# (a) Xj+1 = ( 21Xj + 15)mod( 31)  con x0=21\n",
        "# (b) Xj+1 = ( 13Xj +  9)mod(128) con x0=7\n",
        "# (c) Xj+1 = ( 17Xj     )mod( 31)  con x0=23\n",
        "# (d) Xj+1 = (   Xj +121)mod(256)  con x0=17\n",
        "\n",
        "# (e) Xj+1 = (21Xj + 15XJ-1)mod(64)  con x0=21 y x0=43\n",
        "\n",
        "p=5\n",
        "\n",
        "while p!=0:\n",
        "  ite=300\n",
        "\n",
        "  if p==5:\n",
        "    print(\"a) Xj+1 = ( 21Xj + 15)mod( 31)  con x0=21\")\n",
        "    a=21\n",
        "    b=15\n",
        "    m=31\n",
        "    x0=21\n",
        "\n",
        "  if p==4:\n",
        "    print(\"b) Xj+1 = ( 13Xj +  9)mod(128) con x0=7\")\n",
        "    a=13\n",
        "    b=9\n",
        "    m=128\n",
        "    x0=7\n",
        "\n",
        "  if p==3:\n",
        "    print(\"c) Xj+1 = ( 17Xj     )mod( 31)  con x0=23\")\n",
        "    a=17\n",
        "    b=0\n",
        "    m=31\n",
        "    x0=23\n",
        "\n",
        "  if p==2:\n",
        "    print(\"d) Xj+1 = (   Xj +121)mod(256)  con x0=17\")\n",
        "    a=1\n",
        "    b=121\n",
        "    m=256\n",
        "    x0=17\n",
        "\n",
        "  num=[x0]\n",
        "  while p<=5 and p>=2:\n",
        "    while ite!=0:\n",
        "      x1=(a*x0 + b)%(m)\n",
        "      num.append(x1)\n",
        "      x0=x1\n",
        "      ite-=1\n",
        "\n",
        "  if p==1:\n",
        "    print(\"e) Xj+1 = (21Xj + 15XJ-1)mod(64)  con x0=21 y x1=43\")\n",
        "    x0=21\n",
        "    x1=43\n",
        "    num.append(x0)\n",
        "    num.append(x1)\n",
        "    while ite!=0:\n",
        "      x2=(21*x1 + 15*x0)%(64)\n",
        "      num.append(x2)\n",
        "      x0=x1\n",
        "      x1=x2\n",
        "\n",
        "\n",
        "  g=1\n",
        "  k=[]\n",
        "  for i in num:\n",
        "    if i!=x0:\n",
        "      g+=1\n",
        "    if i==x0:\n",
        "      g+=0\n",
        "      k.append(g)\n",
        "  if p==5:\n",
        "    print(\"El inciso a)\")\n",
        "  if p==4:\n",
        "    print(\"El inciso b)\")\n",
        "  if p==3:\n",
        "    print(\"El inciso c)\")\n",
        "  if p==2:\n",
        "    print(\"El inciso d)\")\n",
        "  if p==1:\n",
        "    print(\"El inciso e)\")\n",
        "\n",
        "  print(\"   \", num)\n",
        "  print(\"Tiene un ciclo de vida de \", k[1])\n",
        "\n",
        "  p-=1"
      ],
      "metadata": {
        "colab": {
          "base_uri": "https://localhost:8080/",
          "height": 228
        },
        "id": "YUyaIfWhFaeo",
        "outputId": "7cca2948-8054-4043-a63e-3fdd655e08ba"
      },
      "execution_count": 3,
      "outputs": [
        {
          "output_type": "stream",
          "name": "stdout",
          "text": [
            "a) Xj+1 = ( 21Xj + 15)mod( 31)  con x0=21\n"
          ]
        },
        {
          "output_type": "error",
          "ename": "KeyboardInterrupt",
          "evalue": "",
          "traceback": [
            "\u001b[0;31m---------------------------------------------------------------------------\u001b[0m",
            "\u001b[0;31mKeyboardInterrupt\u001b[0m                         Traceback (most recent call last)",
            "\u001b[0;32m<ipython-input-3-5cb98a839af9>\u001b[0m in \u001b[0;36m<cell line: 11>\u001b[0;34m()\u001b[0m\n\u001b[1;32m     41\u001b[0m \u001b[0;34m\u001b[0m\u001b[0m\n\u001b[1;32m     42\u001b[0m   \u001b[0mnum\u001b[0m\u001b[0;34m=\u001b[0m\u001b[0;34m[\u001b[0m\u001b[0mx0\u001b[0m\u001b[0;34m]\u001b[0m\u001b[0;34m\u001b[0m\u001b[0;34m\u001b[0m\u001b[0m\n\u001b[0;32m---> 43\u001b[0;31m   \u001b[0;32mwhile\u001b[0m \u001b[0mp\u001b[0m\u001b[0;34m<=\u001b[0m\u001b[0;36m5\u001b[0m \u001b[0;32mand\u001b[0m \u001b[0mp\u001b[0m\u001b[0;34m>=\u001b[0m\u001b[0;36m2\u001b[0m\u001b[0;34m:\u001b[0m\u001b[0;34m\u001b[0m\u001b[0;34m\u001b[0m\u001b[0m\n\u001b[0m\u001b[1;32m     44\u001b[0m     \u001b[0;32mwhile\u001b[0m \u001b[0mite\u001b[0m\u001b[0;34m!=\u001b[0m\u001b[0;36m0\u001b[0m\u001b[0;34m:\u001b[0m\u001b[0;34m\u001b[0m\u001b[0;34m\u001b[0m\u001b[0m\n\u001b[1;32m     45\u001b[0m       \u001b[0mx1\u001b[0m\u001b[0;34m=\u001b[0m\u001b[0;34m(\u001b[0m\u001b[0ma\u001b[0m\u001b[0;34m*\u001b[0m\u001b[0mx0\u001b[0m \u001b[0;34m+\u001b[0m \u001b[0mb\u001b[0m\u001b[0;34m)\u001b[0m\u001b[0;34m%\u001b[0m\u001b[0;34m(\u001b[0m\u001b[0mm\u001b[0m\u001b[0;34m)\u001b[0m\u001b[0;34m\u001b[0m\u001b[0;34m\u001b[0m\u001b[0m\n",
            "\u001b[0;31mKeyboardInterrupt\u001b[0m: "
          ]
        }
      ]
    },
    {
      "cell_type": "code",
      "source": [
        "# 2. Determine el periodo de los siguientes generadores congruenciales mixtos\n",
        "# (a) Xj+1 = ( 21Xj + 15)mod( 31)  con x0=21\n",
        "# (b) Xj+1 = ( 13Xj +  9)mod(128) con x0=7\n",
        "# (c) Xj+1 = ( 17Xj     )mod( 31)  con x0=23\n",
        "# (d) Xj+1 = (   Xj +121)mod(256)  con x0=17\n",
        "\n",
        "# (e) Xj+1 = (21Xj + 15XJ-1)mod(64)  con x0=21 y x0=43"
      ],
      "metadata": {
        "id": "9XFhCs4UQOoD"
      },
      "execution_count": null,
      "outputs": []
    }
  ]
}