{
  "nbformat": 4,
  "nbformat_minor": 0,
  "metadata": {
    "colab": {
      "provenance": [],
      "authorship_tag": "ABX9TyPljLrwanSGnQRst65PPM3p",
      "include_colab_link": true
    },
    "kernelspec": {
      "name": "python3",
      "display_name": "Python 3"
    },
    "language_info": {
      "name": "python"
    }
  },
  "cells": [
    {
      "cell_type": "markdown",
      "metadata": {
        "id": "view-in-github",
        "colab_type": "text"
      },
      "source": [
        "<a href=\"https://colab.research.google.com/github/Jair-RM/Simulacion-I/blob/main/Problemario_I.ipynb\" target=\"_parent\"><img src=\"https://colab.research.google.com/assets/colab-badge.svg\" alt=\"Open In Colab\"/></a>"
      ]
    },
    {
      "cell_type": "code",
      "execution_count": null,
      "metadata": {
        "id": "Z2xhwcdvxHE-"
      },
      "outputs": [],
      "source": [
        "# 1. Para el siguiente conjunto de numeros:\n",
        "#   5, 8, 4, 7, 8, 2, 4, 4, 3, 5, 6, 7, 8, 4, 8, 7, 3, 4, 5, 6, 7, 2, 3, 4, 5\n",
        "#   3, 5, 6, 1, 2, 3, 2, 5, 6, 7, 8, 7, 1, 5, 6, 7, 3, 4, 2, 0, 1, 0, 0, 2, 3\n",
        "# Realice la prueba de bondad de ajuste para determinar si siguen una\n",
        "# distribucion uniforme entre 0 y 8, a un nivel de confianza del 95%"
      ]
    },
    {
      "cell_type": "code",
      "source": [
        "# 2. Realice la pueba de Kolmogorov - Smirnov a los nueros de la siguiente\n",
        "# lista y demuestre a un nivel de 1-α = 95% que son uniformes (0, 1).\n",
        "#   0.778,  0.987,  0.951,  0.234,  0.395,  0.234,  0.783,  0,405\n",
        "#   0.899,  0.277,  0.341,  0.456,  0.482,  0.789,  0.456,  0.479\n",
        "#   0.895,  0.907,  0.002,  0.345,  0.404,  0.982,  0.123,  0.345\n",
        "#   0.678,  0.845,  0.963,  0.298,  0.622,  0.045\n",
        "\n"
      ],
      "metadata": {
        "id": "gq5d_3xcyqZK"
      },
      "execution_count": null,
      "outputs": []
    },
    {
      "cell_type": "code",
      "source": [
        "# 3. Los telares del tipo picañol detienen su producción de tela automáticamente\n",
        "# al ocurrir unarotura, hasta que un operador va a repararla. El tiempo entre\n",
        "# paros de las máquinas ha arrojado los siguientes resultados medidos en minutos\n",
        "#    1.88, 3.53, 1.42, 0.39, 0.80, 0.54, 0.53, 1.28, 0.34, 5.50\n",
        "#    1.90, 1.80, 0.82, 0.01, 4.91, 0.15, 0.79, 2.16, 0.10, 0.35\n",
        "#    0.02, 0.21, 0.05, 1,10, 0.36, 2.81, 0.80, 0.04, 0.24, 0.90\n",
        "#    1.50, 0.26, 1.49, 0.26, 1.03, 0.53, 0.63, 0.66, 0.45, 1.73\n",
        "#    2.62, 0.36, 2.03, 0.17, 0.38, 2.67, 2.03, 1.00, 4.29, 0.48\n",
        "# Determine con un nivel de aceptacón 1-α = 90% la distribucón de probabilida\n",
        "# de tiempo entre paros."
      ],
      "metadata": {
        "id": "zplKodOJ0SJD"
      },
      "execution_count": null,
      "outputs": []
    },
    {
      "cell_type": "code",
      "source": [
        "# 4. Los datos en meses del tiempo entre fallas de un automóvil son:\n",
        "#   36.33, 48.00, 32.02, 36.78, 38.52, 40.33, 35.78, 45.39, 35.99, 36.68\n",
        "#   41.52, 36.54, 36.60, 40.56, 40.42, 33.92, 39.82, 34.48, 34.35, 37.73\n",
        "#   35.89, 31.75, 41.91, 45.70, 31.50, 44.58, 34.04, 32.03, 48.53, 47.29"
      ],
      "metadata": {
        "id": "J0V0XYy32eRS"
      },
      "execution_count": null,
      "outputs": []
    }
  ]
}