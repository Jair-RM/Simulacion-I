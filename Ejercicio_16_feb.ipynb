{
  "nbformat": 4,
  "nbformat_minor": 0,
  "metadata": {
    "colab": {
      "provenance": [],
      "authorship_tag": "ABX9TyMod3YoNk060o96ljuH8DEV",
      "include_colab_link": true
    },
    "kernelspec": {
      "name": "python3",
      "display_name": "Python 3"
    },
    "language_info": {
      "name": "python"
    }
  },
  "cells": [
    {
      "cell_type": "markdown",
      "metadata": {
        "id": "view-in-github",
        "colab_type": "text"
      },
      "source": [
        "<a href=\"https://colab.research.google.com/github/Jair-RM/Simulacion-I/blob/main/Ejercicio_16_feb.ipynb\" target=\"_parent\"><img src=\"https://colab.research.google.com/assets/colab-badge.svg\" alt=\"Open In Colab\"/></a>"
      ]
    },
    {
      "cell_type": "code",
      "execution_count": 4,
      "metadata": {
        "colab": {
          "base_uri": "https://localhost:8080/"
        },
        "id": "rv0cab2X9Nz9",
        "outputId": "5b0f3c38-885c-4d65-92c7-777dbf6b3010"
      },
      "outputs": [
        {
          "output_type": "stream",
          "name": "stdout",
          "text": [
            "Escribe un numerp de 4 digitos: 3792\n",
            "Bien, tu numero es: 3792\n",
            "Ahora, lo elevamos al cuadrado:  14379264\n",
            "4.0\n",
            "Ahora el numevo numero es:  3792\n",
            "Ahora, lo elevamos al cuadrado:  14379264\n",
            "4.0\n",
            "Ahora el numevo numero es:  3792\n",
            "Ahora, lo elevamos al cuadrado:  14379264\n",
            "4.0\n",
            "Ahora el numevo numero es:  3792\n"
          ]
        }
      ],
      "source": [
        "import math\n",
        "x0=int(input(\"Escribe un numerp de 4 digitos: \"))\n",
        "lar=int(math.log10(x0)) + 1\n",
        "while lar!=4:\n",
        "  print(\"Mal, debe ser de 4 digitos\")\n",
        "  x0=int(input(\"Escribe un numerp de 4 digitos: \"))\n",
        "  lar=int(math.log10(x0)) + 1\n",
        "print(\"Bien, tu numero es:\", x0)\n",
        "lista=[]\n",
        "p=0\n",
        "while p<3:\n",
        "  lista.append(x0)\n",
        "  x02=pow(x0,2)\n",
        "  print(\"Ahora, lo elevamos al cuadrado: \", x02)\n",
        "  largo = int( math.log10(x02) ) + 1\n",
        "  if largo%2==0:\n",
        "    h=[]\n",
        "    h1=str(x02)\n",
        "    for i in h1:\n",
        "      h.append(i)\n",
        "    m=largo-1\n",
        "    h.pop(m)\n",
        "    m=largo-2\n",
        "    h.pop(m)\n",
        "    h.pop(0)\n",
        "    h.pop(0)\n",
        "    h2=\"\"\n",
        "    for i in h:\n",
        "      h2+=i\n",
        "    x1=int(h2)\n",
        "    print(\"Ahora el numevo numero es: \", x1)\n",
        "    lar=int(math.log10(x1)) + 1\n",
        "    if lar<4:\n",
        "     print(\"Este numero no funciona\")\n",
        "    x0=x1\n",
        "  if largo%2==1:\n",
        "    h=[]\n",
        "    h1=str(x02)\n",
        "    for i in h1:\n",
        "      h.append(i)\n",
        "    m=largo-1\n",
        "    h.pop(m)\n",
        "    m=largo-2\n",
        "    h.pop(m)\n",
        "    h.pop(0)\n",
        "    h2=\"\"\n",
        "    for i in h:\n",
        "      h2+=i\n",
        "    x1=int(h2)\n",
        "    print(\"Ahora el numevo numero es: \", x1)\n",
        "    lar=int(math.log10(x1)) + 1\n",
        "    if lar<4:\n",
        "      print(\"Este numero no funciona\")\n",
        "    x0=x1\n",
        "\n",
        "  p+=1\n"
      ]
    }
  ]
}