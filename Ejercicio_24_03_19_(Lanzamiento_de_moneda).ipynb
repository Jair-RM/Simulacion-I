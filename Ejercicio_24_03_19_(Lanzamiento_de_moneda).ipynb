{
  "nbformat": 4,
  "nbformat_minor": 0,
  "metadata": {
    "colab": {
      "provenance": [],
      "authorship_tag": "ABX9TyNSc38qDSFftEMWse6E73y6",
      "include_colab_link": true
    },
    "kernelspec": {
      "name": "python3",
      "display_name": "Python 3"
    },
    "language_info": {
      "name": "python"
    }
  },
  "cells": [
    {
      "cell_type": "markdown",
      "metadata": {
        "id": "view-in-github",
        "colab_type": "text"
      },
      "source": [
        "<a href=\"https://colab.research.google.com/github/Jair-RM/Simulacion-I/blob/main/Ejercicio_24_03_19_(Lanzamiento_de_moneda).ipynb\" target=\"_parent\"><img src=\"https://colab.research.google.com/assets/colab-badge.svg\" alt=\"Open In Colab\"/></a>"
      ]
    },
    {
      "cell_type": "code",
      "source": [
        "import random as rnd\n",
        "\n",
        "z=int(input(\"Ingrese el numero de lanzamientos de moneda que desea realizar: \"))\n",
        "\n",
        "moneda=[]\n",
        "probabilidad=[]\n",
        "lanzamientos=[]\n",
        "\n",
        "while z>0:\n",
        "  x=rnd.random()\n",
        "  x=round(x,1)\n",
        "  probabilidad.append(x)\n",
        "  z-=1\n",
        "\n",
        "for i in probabilidad:\n",
        "  if i>=0.0 and i<=0.5:\n",
        "    m=\"Aguila\"\n",
        "    l=0\n",
        "  if i>0.5 and i<=1.0:\n",
        "    m=\"Sol\"\n",
        "    l=1\n",
        "  moneda.append(m)\n",
        "  lanzamientos.append(l)\n",
        "\n",
        "aguila=0\n",
        "sol=0\n",
        "\n",
        "for i in moneda:\n",
        "  if i==\"Aguila\":\n",
        "    aguila+=1\n",
        "  if i==\"Sol\":\n",
        "    sol+=1\n",
        "print(\"prob=\", probabilidad)\n",
        "print(\"lanz=\", lanzamientos)\n",
        "print(\"monedas=\", moneda)\n",
        "\n",
        "print(\"Hay \", aguila, \" aguilas y \", sol, \"soles\")\n",
        "\n",
        "n=sol+aguila\n",
        "a=round((aguila/n)*100,2)\n",
        "s=round((sol/n)*100,2)\n",
        "print(\"Hay una probabilidad de \", s, \"% de que salga sol\")\n",
        "print(\"Hay una probabilidad de \", a, \"% de que salga aguila\")\n",
        "\n",
        "n=1\n",
        "soles=0\n",
        "numsoles=[]\n",
        "for i in moneda:\n",
        "  if i==\"Sol\":\n",
        "    soles+=1\n",
        "    porcentaje=soles/n\n",
        "    numsoles.append(porcentaje)\n",
        "  n+=1\n",
        "\n",
        "print(\"prob soles\", numsoles)"
      ],
      "metadata": {
        "colab": {
          "base_uri": "https://localhost:8080/"
        },
        "id": "FTuwD_ZLD4SO",
        "outputId": "c3f3c79d-5f43-4854-cec9-caeae83c655f"
      },
      "execution_count": 2,
      "outputs": [
        {
          "output_type": "stream",
          "name": "stdout",
          "text": [
            "Ingrese el numero de lanzamientos de moneda que desea realizar: 21\n",
            "prob= [1.0, 0.2, 0.6, 0.9, 0.8, 0.9, 0.7, 0.7, 0.0, 0.6, 0.8, 0.8, 0.2, 0.6, 0.2, 0.1, 0.9, 0.9, 0.7, 0.8, 0.4]\n",
            "lanz= [1, 0, 1, 1, 1, 1, 1, 1, 0, 1, 1, 1, 0, 1, 0, 0, 1, 1, 1, 1, 0]\n",
            "monedas= ['Sol', 'Aguila', 'Sol', 'Sol', 'Sol', 'Sol', 'Sol', 'Sol', 'Aguila', 'Sol', 'Sol', 'Sol', 'Aguila', 'Sol', 'Aguila', 'Aguila', 'Sol', 'Sol', 'Sol', 'Sol', 'Aguila']\n",
            "Hay  6  aguilas y  15 soles\n",
            "Hay una probabilidad de  71.43 % de que salga sol\n",
            "Hay una probabilidad de  28.57 % de que salga aguila\n",
            "prob soles [1.0, 0.6666666666666666, 0.75, 0.8, 0.8333333333333334, 0.8571428571428571, 0.875, 0.8, 0.8181818181818182, 0.8333333333333334, 0.7857142857142857, 0.7058823529411765, 0.7222222222222222, 0.7368421052631579, 0.75]\n"
          ]
        }
      ]
    }
  ]
}