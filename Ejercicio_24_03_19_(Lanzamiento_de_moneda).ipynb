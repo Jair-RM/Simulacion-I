{
  "nbformat": 4,
  "nbformat_minor": 0,
  "metadata": {
    "colab": {
      "provenance": [],
      "authorship_tag": "ABX9TyNIRWerL2VLlCnLBnLkoc3a",
      "include_colab_link": true
    },
    "kernelspec": {
      "name": "python3",
      "display_name": "Python 3"
    },
    "language_info": {
      "name": "python"
    }
  },
  "cells": [
    {
      "cell_type": "markdown",
      "metadata": {
        "id": "view-in-github",
        "colab_type": "text"
      },
      "source": [
        "<a href=\"https://colab.research.google.com/github/Jair-RM/Simulacion-I/blob/main/Ejercicio_24_03_19_(Lanzamiento_de_moneda).ipynb\" target=\"_parent\"><img src=\"https://colab.research.google.com/assets/colab-badge.svg\" alt=\"Open In Colab\"/></a>"
      ]
    },
    {
      "cell_type": "code",
      "source": [
        "import random as rnd\n",
        "\n",
        "z=int(input(\"Ingrese el numero de lanzamientos de moneda que desea realizar: \"))\n",
        "\n",
        "moneda=[]\n",
        "probabilidad=[]\n",
        "lanzamientos=[]\n",
        "\n",
        "while z>0:\n",
        "  x=rnd.random()\n",
        "  x=round(x,1)\n",
        "  probabilidad.append(x)\n",
        "  z-=1\n",
        "\n",
        "for i in probabilidad:\n",
        "  if i>=0.0 and i<=0.5:\n",
        "    m=\"Aguila\"\n",
        "    l=0\n",
        "  if i>0.5 and i<=1.0:\n",
        "    m=\"Sol\"\n",
        "    l=1\n",
        "  moneda.append(m)\n",
        "  lanzamientos.append(l)\n",
        "\n",
        "aguila=0\n",
        "sol=0\n",
        "\n",
        "for i in moneda:\n",
        "  if i==\"Aguila\":\n",
        "    aguila+=1\n",
        "  if i==\"Sol\":\n",
        "    sol+=1\n",
        "print(\"prob=\", probabilidad)\n",
        "print(\"lanz=\", lanzamientos)\n",
        "print(\"monedas=\", moneda)\n",
        "\n",
        "print(\"Hay \", aguila, \" aguilas y \", sol, \"soles\")\n",
        "\n",
        "n=sol+aguila\n",
        "a=round((aguila/n)*100,2)\n",
        "s=round((sol/n)*100,2)\n",
        "print(\"Hay una probabilidad de \", s, \"% de que salga sol\")\n",
        "print(\"Hay una probabilidad de \", a, \"% de que salga aguila\")\n",
        "\n",
        "n=1\n",
        "soles=0\n",
        "numsoles=[]\n",
        "for i in moneda:\n",
        "  if i==\"Sol\":\n",
        "    soles+=1\n",
        "    porcentaje=soles/n\n",
        "    numsoles.append(porcentaje)\n",
        "  n+=1\n"
      ],
      "metadata": {
        "colab": {
          "base_uri": "https://localhost:8080/"
        },
        "id": "FTuwD_ZLD4SO",
        "outputId": "495fd8ba-1f18-4f2d-dd62-08030ebc8f18"
      },
      "execution_count": null,
      "outputs": [
        {
          "output_type": "stream",
          "name": "stdout",
          "text": [
            "Ingrese el numero de lanzamientos de moneda que desea realizar: 44\n",
            "[0.4, 1.0, 0.4, 0.1, 0.9, 0.2, 0.2, 0.7, 0.8, 0.2, 0.3, 0.7, 0.8, 0.2, 0.7, 0.1, 0.9, 0.2, 0.4, 0.3, 0.1, 0.7, 0.4, 0.3, 0.6, 0.5, 0.7, 0.2, 0.3, 0.6, 0.7, 0.8, 0.5, 0.8, 0.6, 0.1, 0.0, 0.1, 0.3, 0.6, 0.7, 0.9, 0.4, 0.2]\n",
            "[0, 1, 0, 0, 1, 0, 0, 1, 1, 0, 0, 1, 1, 0, 1, 0, 1, 0, 0, 0, 0, 1, 0, 0, 1, 0, 1, 0, 0, 1, 1, 1, 0, 1, 1, 0, 0, 0, 0, 1, 1, 1, 0, 0]\n",
            "['Aguila', 'Sol', 'Aguila', 'Aguila', 'Sol', 'Aguila', 'Aguila', 'Sol', 'Sol', 'Aguila', 'Aguila', 'Sol', 'Sol', 'Aguila', 'Sol', 'Aguila', 'Sol', 'Aguila', 'Aguila', 'Aguila', 'Aguila', 'Sol', 'Aguila', 'Aguila', 'Sol', 'Aguila', 'Sol', 'Aguila', 'Aguila', 'Sol', 'Sol', 'Sol', 'Aguila', 'Sol', 'Sol', 'Aguila', 'Aguila', 'Aguila', 'Aguila', 'Sol', 'Sol', 'Sol', 'Aguila', 'Aguila']\n",
            "Hay  25  aguilas y  19 soles\n",
            "Hay una probabilidad de  43.18 % de que salga sol\n",
            "Hay una probabilidad de  56.82 % de que salga aguila\n"
          ]
        }
      ]
    }
  ]
}