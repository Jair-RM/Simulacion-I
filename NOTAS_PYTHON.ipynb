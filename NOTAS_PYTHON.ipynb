{
  "nbformat": 4,
  "nbformat_minor": 0,
  "metadata": {
    "colab": {
      "provenance": [],
      "authorship_tag": "ABX9TyOhC2fNRBRGWrwFEofdQd1M",
      "include_colab_link": true
    },
    "kernelspec": {
      "name": "python3",
      "display_name": "Python 3"
    },
    "language_info": {
      "name": "python"
    }
  },
  "cells": [
    {
      "cell_type": "markdown",
      "metadata": {
        "id": "view-in-github",
        "colab_type": "text"
      },
      "source": [
        "<a href=\"https://colab.research.google.com/github/Jair-RM/Simulacion-I/blob/main/NOTAS_PYTHON.ipynb\" target=\"_parent\"><img src=\"https://colab.research.google.com/assets/colab-badge.svg\" alt=\"Open In Colab\"/></a>"
      ]
    },
    {
      "cell_type": "code",
      "execution_count": null,
      "metadata": {
        "id": "byH05bLOEmyN"
      },
      "outputs": [],
      "source": [
        "# round disminuye el numero de decimales\n",
        "# (Numeros original, numero de decimales)\n",
        "round(x,4)\n",
        "\n",
        "# Funcion random\n",
        "import random as rnd\n",
        "# x obtendra un numero aleatorio entre 0 y 1 (decimales)\n",
        "x=rnd.random()\n",
        "\n",
        "#randint devuelve numeros enteros aleatorios entre 2 numeros\n",
        "import random\n",
        "numero = random.randint(1, 10)"
      ]
    }
  ]
}