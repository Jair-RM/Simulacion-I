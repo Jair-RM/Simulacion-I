{
  "nbformat": 4,
  "nbformat_minor": 0,
  "metadata": {
    "colab": {
      "provenance": [],
      "authorship_tag": "ABX9TyP0Du0dI3b5bQfxK1rDFMZG",
      "include_colab_link": true
    },
    "kernelspec": {
      "name": "python3",
      "display_name": "Python 3"
    },
    "language_info": {
      "name": "python"
    }
  },
  "cells": [
    {
      "cell_type": "markdown",
      "metadata": {
        "id": "view-in-github",
        "colab_type": "text"
      },
      "source": [
        "<a href=\"https://colab.research.google.com/github/Jair-RM/Simulacion-I/blob/main/Ejercicio_21_feb.ipynb\" target=\"_parent\"><img src=\"https://colab.research.google.com/assets/colab-badge.svg\" alt=\"Open In Colab\"/></a>"
      ]
    },
    {
      "cell_type": "code",
      "execution_count": 6,
      "metadata": {
        "colab": {
          "base_uri": "https://localhost:8080/"
        },
        "id": "csvOHIvvukr5",
        "outputId": "c793f083-3889-487a-c63d-182cb4aa76a5"
      },
      "outputs": [
        {
          "output_type": "stream",
          "name": "stdout",
          "text": [
            "Ecribe cuantos digitos quieresusar p= 3\n",
            "Escribe el primer numero: 456\n",
            "Escribe el segundo numero: 608\n",
            "Se reemplazara el segundo numero\n",
            "Bien, tus numeros son: 456 y 608\n",
            "Ahora, los multiplicamos:  456 * 608  =  277248\n",
            "Ahora el numevo segundo numero es:  7\n",
            "Este numero no funciona\n",
            "Ahora, los multiplicamos:  456 * 7  =  3192\n",
            "Ahora el numevo segundo numero es:  19\n",
            "Este numero no funciona\n",
            "Ahora, los multiplicamos:  456 * 19  =  8664\n",
            "Ahora el numevo segundo numero es:  866\n",
            "Este numero no funciona\n",
            "[456, 456, 456, 456]\n",
            "[608, 7, 19, 866]\n"
          ]
        }
      ],
      "source": [
        "import math\n",
        "p=int(input(\"Ecribe cuantos digitos quieresusar p= \"))\n",
        "x0=int(input(\"Escribe el primer numero: \"))\n",
        "x1=int(input(\"Escribe el segundo numero: \"))\n",
        "print(\"Se reemplazara el segundo numero\")\n",
        "lar0=int(math.log10(x0)) + 1\n",
        "lar1=int(math.log10(x1)) + 1\n",
        "while lar0!=p or lar1!=p:\n",
        "  print(\"Mal, deben ser de \", p, \" digitos!!!\")\n",
        "  x0=int(input(\"Escribe el primer numero de\", p, \"digitos: \"))\n",
        "  x1=int(input(\"Escribe el segundo numero de\", p, \"digitos: \"))\n",
        "  lar0=int(math.log10(x0)) + 1\n",
        "  lar1=int(math.log10(x1)) + 1\n",
        "print(\"Bien, tus numeros son:\", x0, \"y\", x1)\n",
        "lista0=[x0]\n",
        "lista1=[x1]\n",
        "p=0\n",
        "while p<3:\n",
        "  x3=x0*x1\n",
        "  print(\"Ahora, los multiplicamos: \", x0, \"*\", x1, \" = \", x3)\n",
        "  largo = int( math.log10(x3) ) + 1\n",
        "  if largo%2==1:\n",
        "    h=[]\n",
        "    h1=str(x3)\n",
        "    for i in h1:\n",
        "      h.append(i)\n",
        "    m=largo-1\n",
        "    while m>p:\n",
        "      if m%2==0:\n",
        "        h.pop(m)\n",
        "      if m%2==1:\n",
        "        h.pop(0)\n",
        "      m-=1\n",
        "    h2=\"\"\n",
        "    for i in h:\n",
        "      h2+=i\n",
        "    x1=int(h2)\n",
        "    print(\"Ahora el numevo segundo numero es: \", x1)\n",
        "    lar=int(math.log10(x1)) + 1\n",
        "    if lar!=p:\n",
        "     print(\"Este numero no funciona\")\n",
        "\n",
        "  if largo%2==0:\n",
        "    h=[]\n",
        "    h1=str(x3)\n",
        "    for i in h1:\n",
        "      h.append(i)\n",
        "    m=largo-1\n",
        "    h.pop(m)\n",
        "    m-=1\n",
        "    while m>p:\n",
        "      if m%2==1:\n",
        "        h.pop(m)\n",
        "      if m%2==0:\n",
        "        h.pop(0)\n",
        "      m-=1\n",
        "    h2=\"\"\n",
        "    for i in h:\n",
        "      h2+=i\n",
        "    x1=int(h2)\n",
        "    print(\"Ahora el numevo segundo numero es: \", x1)\n",
        "    lar=int(math.log10(x1)) + 1\n",
        "    if lar!=p:\n",
        "     print(\"Este numero no funciona\")\n",
        "  lista0.append(x0)\n",
        "  lista1.append(x1)\n",
        "  p+=1\n",
        "print(lista0)\n",
        "print(lista1)"
      ]
    }
  ]
}