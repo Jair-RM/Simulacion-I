{
  "nbformat": 4,
  "nbformat_minor": 0,
  "metadata": {
    "colab": {
      "provenance": [],
      "authorship_tag": "ABX9TyPa5Hd8pN6ugObnFYWCmvmL",
      "include_colab_link": true
    },
    "kernelspec": {
      "name": "python3",
      "display_name": "Python 3"
    },
    "language_info": {
      "name": "python"
    }
  },
  "cells": [
    {
      "cell_type": "markdown",
      "metadata": {
        "id": "view-in-github",
        "colab_type": "text"
      },
      "source": [
        "<a href=\"https://colab.research.google.com/github/Jair-RM/Simulacion-I/blob/main/Ejercicio_27_feb.ipynb\" target=\"_parent\"><img src=\"https://colab.research.google.com/assets/colab-badge.svg\" alt=\"Open In Colab\"/></a>"
      ]
    },
    {
      "cell_type": "code",
      "execution_count": 39,
      "metadata": {
        "colab": {
          "base_uri": "https://localhost:8080/"
        },
        "id": "8XrYIfpELf6u",
        "outputId": "76168de7-c1ea-4b41-db15-6dab252dafa9"
      },
      "outputs": [
        {
          "output_type": "stream",
          "name": "stdout",
          "text": [
            "Metodo de congruencia\n",
            "Xn+1=aXn+c  (mod % m), 0<Xn<m\n",
            "Ingresa un numero entero a: 5\n",
            "Ingresa un numero entero c: 5\n",
            "Ingresa un numero entero para el modulo m: 16\n",
            "Ingresa un numero entero, debe ser menor al modulo, x0: 6\n",
            "Ingresa un numero de iteraciones que quiera realizar f: 20\n",
            "se requieren 17 iteraciones para que se repitan los numeros\n",
            "[0.375, 0.187, 0.25, 0.562, 0.125, 0.937, 0.0, 0.312, 0.875, 0.687, 0.75, 0.062, 0.625, 0.437, 0.5, 0.812, 0.375, 0.187, 0.25, 0.562]\n"
          ]
        }
      ],
      "source": [
        "#Numeros aleatorios entre 0 y 1\n",
        "print(\"Metodo de congruencia\")\n",
        "print(\"Xn+1=aXn+c  (mod % m), 0<Xn<m\")\n",
        "a=int(input(\"Ingresa un numero entero a: \"))\n",
        "c=int(input(\"Ingresa un numero entero c: \"))\n",
        "m=int(input(\"Ingresa un numero entero para el modulo m: \"))\n",
        "x0=int(input(\"Ingresa un numero entero, debe ser menor al modulo, x0: \"))\n",
        "if m<=x0:\n",
        "  print(\"No se puede hacer, el modulo debe ser menor5\")\n",
        "if m>x0:\n",
        "  f=int(input(\"Ingresa un numero de iteraciones que quiera realizar f: \"))\n",
        "  n=0\n",
        "  j=2\n",
        "  xn=[]\n",
        "  g=[]\n",
        "  while f>0:\n",
        "    x1=(a*x0+c)%m\n",
        "    xn1=x0/16\n",
        "    xn1=xn1*1000\n",
        "    xn1=int(xn1)\n",
        "    xn1=xn1/1000\n",
        "    xn.append(xn1)\n",
        "    x0=x1\n",
        "    f-=1\n",
        "  #Contar desde que iteracion se empieza a repetir\n",
        "  for i in xn:\n",
        "    for h in xn:\n",
        "      if h!=i:\n",
        "        j+=1\n",
        "      if i==h:\n",
        "        g.append(j)\n",
        "  print(\"se requieren\", g[1], \"iteraciones para que se repitan los numeros\")\n",
        "  print(xn)\n",
        "\n",
        "  #para a=5, c=5, m=16 y x0=6 se requieren 17 iteraciones\n",
        "  #para a=10, c=5, m=16 y x0=6 se requieren 5 iteraciones y se hace bucle en 0.187\n",
        "  #para a=2, c=5, m=16 y x0=6 se requieren 5 iteraciones y se hace bucle en 0.687\n",
        "  #para a=7, c=5, m=16 y x0=6 se requieren 5 iteraciones"
      ]
    }
  ]
}