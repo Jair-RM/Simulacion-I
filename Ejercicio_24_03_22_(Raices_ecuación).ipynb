{
  "nbformat": 4,
  "nbformat_minor": 0,
  "metadata": {
    "colab": {
      "provenance": [],
      "authorship_tag": "ABX9TyMd16nWyrASZBcUO4np0Ke+",
      "include_colab_link": true
    },
    "kernelspec": {
      "name": "python3",
      "display_name": "Python 3"
    },
    "language_info": {
      "name": "python"
    }
  },
  "cells": [
    {
      "cell_type": "markdown",
      "metadata": {
        "id": "view-in-github",
        "colab_type": "text"
      },
      "source": [
        "<a href=\"https://colab.research.google.com/github/Jair-RM/Simulacion-I/blob/main/Ejercicio_24_03_22_(Raices_ecuaci%C3%B3n).ipynb\" target=\"_parent\"><img src=\"https://colab.research.google.com/assets/colab-badge.svg\" alt=\"Open In Colab\"/></a>"
      ]
    },
    {
      "cell_type": "code",
      "execution_count": 17,
      "metadata": {
        "colab": {
          "base_uri": "https://localhost:8080/",
          "height": 499
        },
        "id": "aFoNJjvsI8xh",
        "outputId": "cf62aeb6-5272-45c2-b4cb-a01d875acf6a"
      },
      "outputs": [
        {
          "output_type": "stream",
          "name": "stdout",
          "text": [
            "Ingrese cuanto numeros quiere probar: 10000\n",
            "Se generaron  1710 raices de los numeros aleatorios\n",
            "\n",
            "Hay  17.1 % de probabilidad de que se generen races reales\n"
          ]
        },
        {
          "output_type": "display_data",
          "data": {
            "text/plain": [
              "<Figure size 640x480 with 1 Axes>"
            ],
            "image/png": "[encoded data removed]"
          },
          "metadata": {}
        }
      ],
      "source": [
        "# Dada la ecuacion Xˆ2 + px + q = 0\n",
        "# Si p y q se eligen al azar en el intervalo [0, 2]\n",
        "# ¿Cuál es la probabilidad de que la ecuación tenga raíces reales?\n",
        "\n",
        "import random\n",
        "import math\n",
        "import matplotlib\n",
        "import matplotlib.pyplot as plt\n",
        "z=int(input(\"Ingrese cuanto numeros quiere probar: \"))\n",
        "datos=[]\n",
        "prob=[]\n",
        "while z!=0:\n",
        "  p = random.randint(0, 2000)\n",
        "  p = p/1000\n",
        "\n",
        "  q = random.randint(0, 2000)\n",
        "  q = q/1000\n",
        "\n",
        "#  print (\"Nuestra p es \", p, \"y la q es\", q)\n",
        "  D=pow(p, 2) - 4*q\n",
        "\n",
        "  if D>=0:\n",
        "    x1= (-p + D)/(2)\n",
        "    x2= (-p - D)/(2)\n",
        "    x=[x1, x2]\n",
        "#    print(\"\\tEstos numeros si generan raices, las cuales son \", x)\n",
        "    datos.append(\"SI\")\n",
        "  if D<0:\n",
        "#    print(\"\\tEstos numeros no generan raices reales\")\n",
        "    datos.append(\"NO\")\n",
        "\n",
        "  z-=1\n",
        "\n",
        "n=0\n",
        "si=0\n",
        "n1=[]\n",
        "for i in datos:\n",
        "  n+=1\n",
        "  if i==\"SI\":\n",
        "    si+=1\n",
        "  y=si/n\n",
        "  prob.append(y)\n",
        "  n1.append(n)\n",
        "\n",
        "print(\"Se generaron \", si, \"raices de los numeros aleatorios\\n\")\n",
        "print(\"Hay \", (si/n)*100, \"% de probabilidad de que se generen races reales\")\n",
        "fig, ax = plt.subplots()\n",
        "#        eje x           eje y\n",
        "ax.plot(n1, prob)\n",
        "plt.show()\n"
      ]
    }
  ]
}