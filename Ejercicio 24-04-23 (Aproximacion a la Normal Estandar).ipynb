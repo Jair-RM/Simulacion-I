{
  "nbformat": 4,
  "nbformat_minor": 0,
  "metadata": {
    "colab": {
      "provenance": [],
      "authorship_tag": "ABX9TyNGgaIzmPtEUPPrmE5R0Jme",
      "include_colab_link": true
    },
    "kernelspec": {
      "name": "python3",
      "display_name": "Python 3"
    },
    "language_info": {
      "name": "python"
    }
  },
  "cells": [
    {
      "cell_type": "markdown",
      "metadata": {
        "id": "view-in-github",
        "colab_type": "text"
      },
      "source": [
        "<a href=\"https://colab.research.google.com/github/Jair-RM/Simulacion-I/blob/main/Ejercicio%2024-04-23%20(Aproximacion%20a%20la%20Normal%20Estandar).ipynb\" target=\"_parent\"><img src=\"https://colab.research.google.com/assets/colab-badge.svg\" alt=\"Open In Colab\"/></a>"
      ]
    },
    {
      "cell_type": "code",
      "execution_count": null,
      "metadata": {
        "id": "uxTH3K7zXrDQ"
      },
      "outputs": [],
      "source": [
        "import math\n",
        "import random as rnd\n",
        "import numpy as np\n",
        "import matplotlib.pyplot as plt\n",
        "\n",
        "\n",
        "\n",
        "num=100\n",
        "numeros=[]\n",
        "while num!=0:\n",
        "  u=rnd.random()\n",
        "  x=(pow(u, 0.135) - pow(1-u, 0.135))/(0.1975)\n",
        "  numeros.append(x)\n",
        "  num-=1\n",
        "\n",
        "media=np.mean(numeros)\n",
        "varianza= np.var(numeros)\n",
        "\n",
        "\n",
        "print(\"La media es \", media)\n",
        "\n",
        "print(\"La varianza es \", varianza)\n",
        "\n",
        "plt.hist(numeros)\n",
        "\n",
        "\n",
        "plt.plot(numeros)\n",
        "\n",
        "def cdf(numeros):\n",
        "  n=len(numeros)\n",
        "  x=np.sort(numeros)\n",
        "  y=np.arange(0, len(numeros))/len(numeros)\n",
        "  return x,y\n",
        "\n",
        "X,Y=cdf(numeros)\n",
        "plt.step(X,Y)\n",
        "plt.step(X,Y, \"cs\", where=\"mid\")\n",
        "plt.xlim(0, 0.3)\n",
        "plt.show()"
      ]
    }
  ]
}